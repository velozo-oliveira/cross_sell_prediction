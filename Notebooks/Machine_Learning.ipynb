{
 "cells": [
  {
   "cell_type": "markdown",
   "id": "56f3675f",
   "metadata": {},
   "source": [
    "# 0. IMPORTS"
   ]
  },
  {
   "cell_type": "code",
   "execution_count": 1,
   "id": "fa5742a6",
   "metadata": {},
   "outputs": [],
   "source": [
    "import pandas as pd\n",
    "import numpy as np\n",
    "import sys\n",
    "import scikitplot as skplt\n",
    "import pickle\n",
    "\n",
    "from matplotlib import pyplot as plt\n",
    "\n",
    "from sklearn import preprocessing as pp\n",
    "from sklearn import model_selection as ms\n",
    "from sklearn import ensemble as en\n",
    "from sklearn import neighbors as nh\n",
    "from sklearn import linear_model as lm"
   ]
  },
  {
   "cell_type": "markdown",
   "id": "f10052c2",
   "metadata": {},
   "source": [
    "## 0.1 Helper Functions"
   ]
  },
  {
   "cell_type": "code",
   "execution_count": 2,
   "id": "832d51bf",
   "metadata": {},
   "outputs": [],
   "source": [
    "def precision_at_k (data, score, sample_perc = 0.5):\n",
    "    \n",
    "    # transform sample_perc into k-row value\n",
    "    k = int(len(data) * sample_perc) # get corresponding row of the dataset\n",
    "\n",
    "    # sort list by propensity score value\n",
    "    data = data.sort_values(score, ascending = False)\n",
    "\n",
    "    data = data.reset_index(drop=True)\n",
    "\n",
    "    # create ranking order\n",
    "    data['ranking'] = data.index + 1 # ranking number starts at 1\n",
    "\n",
    "    # create precision_at_k column\n",
    "    data['precision_at_k'] = data['response'].cumsum() / data['ranking']\n",
    "\n",
    "    # return precision value at k row\n",
    "    return data.loc[k, 'precision_at_k']\n",
    "\n",
    "def recall_at_k (data, score, sample_perc = 0.5):\n",
    "    \n",
    "    # transform sample_perc into k-row value\n",
    "    k = int(len(data) * sample_perc) # get corresponding row of the dataset\n",
    "\n",
    "    # sort list by propensity score value\n",
    "    data = data.sort_values(score, ascending = False)\n",
    "\n",
    "    # reset index\n",
    "    data = data.reset_index(drop=True)\n",
    "\n",
    "    # create ranking order\n",
    "    data['ranking'] = data.index + 1 # ranking number starts at 1\n",
    "\n",
    "    # create recall_at_k column\n",
    "    data['recall_at_k'] = data['response'].cumsum() / data['response'].sum()\n",
    "\n",
    "    # return recall value at k row\n",
    "    return data.loc[k, 'recall_at_k']"
   ]
  },
  {
   "cell_type": "markdown",
   "id": "c5413bca",
   "metadata": {},
   "source": [
    "# 1.0. DATA PREPARATION"
   ]
  },
  {
   "cell_type": "code",
   "execution_count": 3,
   "id": "a78691df",
   "metadata": {},
   "outputs": [],
   "source": [
    "df = pd.read_csv('/home/rafael/Repos/cross_sell_prediction/data/'+'eda_complete.csv', index_col=0)"
   ]
  },
  {
   "cell_type": "code",
   "execution_count": 4,
   "id": "c40b9f35",
   "metadata": {},
   "outputs": [],
   "source": [
    "# simulates production environment\n",
    "\n",
    "X = df.drop('response', axis = 1) # real data does not contain response\n",
    "y = df['response'].copy()\n",
    "\n",
    "x_train, x_validation, y_train, y_validation = ms.train_test_split(X, y, test_size = 0.20, random_state = 9) # spit dataset between train and test\n",
    "\n",
    "df = pd.concat([x_train, y_train], axis = 1)"
   ]
  },
  {
   "cell_type": "code",
   "execution_count": 5,
   "id": "4c482d1d",
   "metadata": {},
   "outputs": [
    {
     "data": {
      "text/html": [
       "<div>\n",
       "<style scoped>\n",
       "    .dataframe tbody tr th:only-of-type {\n",
       "        vertical-align: middle;\n",
       "    }\n",
       "\n",
       "    .dataframe tbody tr th {\n",
       "        vertical-align: top;\n",
       "    }\n",
       "\n",
       "    .dataframe thead th {\n",
       "        text-align: right;\n",
       "    }\n",
       "</style>\n",
       "<table border=\"1\" class=\"dataframe\">\n",
       "  <thead>\n",
       "    <tr style=\"text-align: right;\">\n",
       "      <th></th>\n",
       "      <th>id</th>\n",
       "      <th>gender</th>\n",
       "      <th>age</th>\n",
       "      <th>region_code</th>\n",
       "      <th>policy_sales_channel</th>\n",
       "      <th>driving_license</th>\n",
       "      <th>vehicle_age</th>\n",
       "      <th>vehicle_damage</th>\n",
       "      <th>previously_insured</th>\n",
       "      <th>annual_premium</th>\n",
       "      <th>vintage</th>\n",
       "      <th>response</th>\n",
       "    </tr>\n",
       "  </thead>\n",
       "  <tbody>\n",
       "    <tr>\n",
       "      <th>334308</th>\n",
       "      <td>5496</td>\n",
       "      <td>Female</td>\n",
       "      <td>60</td>\n",
       "      <td>11.0</td>\n",
       "      <td>152.0</td>\n",
       "      <td>1</td>\n",
       "      <td>between_1_2_year</td>\n",
       "      <td>0</td>\n",
       "      <td>1</td>\n",
       "      <td>32963.0</td>\n",
       "      <td>270</td>\n",
       "      <td>0</td>\n",
       "    </tr>\n",
       "    <tr>\n",
       "      <th>355574</th>\n",
       "      <td>177274</td>\n",
       "      <td>Female</td>\n",
       "      <td>23</td>\n",
       "      <td>8.0</td>\n",
       "      <td>152.0</td>\n",
       "      <td>1</td>\n",
       "      <td>below_1_year</td>\n",
       "      <td>1</td>\n",
       "      <td>0</td>\n",
       "      <td>56500.0</td>\n",
       "      <td>97</td>\n",
       "      <td>0</td>\n",
       "    </tr>\n",
       "    <tr>\n",
       "      <th>295699</th>\n",
       "      <td>76651</td>\n",
       "      <td>Male</td>\n",
       "      <td>37</td>\n",
       "      <td>14.0</td>\n",
       "      <td>152.0</td>\n",
       "      <td>1</td>\n",
       "      <td>between_1_2_year</td>\n",
       "      <td>0</td>\n",
       "      <td>1</td>\n",
       "      <td>39673.0</td>\n",
       "      <td>259</td>\n",
       "      <td>0</td>\n",
       "    </tr>\n",
       "    <tr>\n",
       "      <th>107412</th>\n",
       "      <td>95460</td>\n",
       "      <td>Male</td>\n",
       "      <td>27</td>\n",
       "      <td>15.0</td>\n",
       "      <td>152.0</td>\n",
       "      <td>1</td>\n",
       "      <td>below_1_year</td>\n",
       "      <td>0</td>\n",
       "      <td>0</td>\n",
       "      <td>53234.0</td>\n",
       "      <td>287</td>\n",
       "      <td>0</td>\n",
       "    </tr>\n",
       "    <tr>\n",
       "      <th>191167</th>\n",
       "      <td>2508</td>\n",
       "      <td>Male</td>\n",
       "      <td>43</td>\n",
       "      <td>46.0</td>\n",
       "      <td>124.0</td>\n",
       "      <td>1</td>\n",
       "      <td>between_1_2_year</td>\n",
       "      <td>0</td>\n",
       "      <td>1</td>\n",
       "      <td>26920.0</td>\n",
       "      <td>116</td>\n",
       "      <td>0</td>\n",
       "    </tr>\n",
       "    <tr>\n",
       "      <th>...</th>\n",
       "      <td>...</td>\n",
       "      <td>...</td>\n",
       "      <td>...</td>\n",
       "      <td>...</td>\n",
       "      <td>...</td>\n",
       "      <td>...</td>\n",
       "      <td>...</td>\n",
       "      <td>...</td>\n",
       "      <td>...</td>\n",
       "      <td>...</td>\n",
       "      <td>...</td>\n",
       "      <td>...</td>\n",
       "    </tr>\n",
       "    <tr>\n",
       "      <th>96356</th>\n",
       "      <td>6929</td>\n",
       "      <td>Female</td>\n",
       "      <td>24</td>\n",
       "      <td>8.0</td>\n",
       "      <td>156.0</td>\n",
       "      <td>1</td>\n",
       "      <td>below_1_year</td>\n",
       "      <td>1</td>\n",
       "      <td>0</td>\n",
       "      <td>2630.0</td>\n",
       "      <td>287</td>\n",
       "      <td>1</td>\n",
       "    </tr>\n",
       "    <tr>\n",
       "      <th>107355</th>\n",
       "      <td>95026</td>\n",
       "      <td>Male</td>\n",
       "      <td>36</td>\n",
       "      <td>41.0</td>\n",
       "      <td>152.0</td>\n",
       "      <td>1</td>\n",
       "      <td>between_1_2_year</td>\n",
       "      <td>0</td>\n",
       "      <td>1</td>\n",
       "      <td>26932.0</td>\n",
       "      <td>173</td>\n",
       "      <td>0</td>\n",
       "    </tr>\n",
       "    <tr>\n",
       "      <th>70050</th>\n",
       "      <td>178262</td>\n",
       "      <td>Male</td>\n",
       "      <td>41</td>\n",
       "      <td>28.0</td>\n",
       "      <td>124.0</td>\n",
       "      <td>1</td>\n",
       "      <td>between_1_2_year</td>\n",
       "      <td>1</td>\n",
       "      <td>0</td>\n",
       "      <td>39918.0</td>\n",
       "      <td>215</td>\n",
       "      <td>0</td>\n",
       "    </tr>\n",
       "    <tr>\n",
       "      <th>97687</th>\n",
       "      <td>17054</td>\n",
       "      <td>Female</td>\n",
       "      <td>41</td>\n",
       "      <td>28.0</td>\n",
       "      <td>26.0</td>\n",
       "      <td>1</td>\n",
       "      <td>between_1_2_year</td>\n",
       "      <td>1</td>\n",
       "      <td>0</td>\n",
       "      <td>2630.0</td>\n",
       "      <td>92</td>\n",
       "      <td>0</td>\n",
       "    </tr>\n",
       "    <tr>\n",
       "      <th>77291</th>\n",
       "      <td>235186</td>\n",
       "      <td>Female</td>\n",
       "      <td>26</td>\n",
       "      <td>35.0</td>\n",
       "      <td>160.0</td>\n",
       "      <td>1</td>\n",
       "      <td>below_1_year</td>\n",
       "      <td>1</td>\n",
       "      <td>0</td>\n",
       "      <td>2630.0</td>\n",
       "      <td>245</td>\n",
       "      <td>0</td>\n",
       "    </tr>\n",
       "  </tbody>\n",
       "</table>\n",
       "<p>243909 rows × 12 columns</p>\n",
       "</div>"
      ],
      "text/plain": [
       "            id  gender  age  region_code  policy_sales_channel  \\\n",
       "334308    5496  Female   60         11.0                 152.0   \n",
       "355574  177274  Female   23          8.0                 152.0   \n",
       "295699   76651    Male   37         14.0                 152.0   \n",
       "107412   95460    Male   27         15.0                 152.0   \n",
       "191167    2508    Male   43         46.0                 124.0   \n",
       "...        ...     ...  ...          ...                   ...   \n",
       "96356     6929  Female   24          8.0                 156.0   \n",
       "107355   95026    Male   36         41.0                 152.0   \n",
       "70050   178262    Male   41         28.0                 124.0   \n",
       "97687    17054  Female   41         28.0                  26.0   \n",
       "77291   235186  Female   26         35.0                 160.0   \n",
       "\n",
       "        driving_license       vehicle_age  vehicle_damage  previously_insured  \\\n",
       "334308                1  between_1_2_year               0                   1   \n",
       "355574                1      below_1_year               1                   0   \n",
       "295699                1  between_1_2_year               0                   1   \n",
       "107412                1      below_1_year               0                   0   \n",
       "191167                1  between_1_2_year               0                   1   \n",
       "...                 ...               ...             ...                 ...   \n",
       "96356                 1      below_1_year               1                   0   \n",
       "107355                1  between_1_2_year               0                   1   \n",
       "70050                 1  between_1_2_year               1                   0   \n",
       "97687                 1  between_1_2_year               1                   0   \n",
       "77291                 1      below_1_year               1                   0   \n",
       "\n",
       "        annual_premium  vintage  response  \n",
       "334308         32963.0      270         0  \n",
       "355574         56500.0       97         0  \n",
       "295699         39673.0      259         0  \n",
       "107412         53234.0      287         0  \n",
       "191167         26920.0      116         0  \n",
       "...                ...      ...       ...  \n",
       "96356           2630.0      287         1  \n",
       "107355         26932.0      173         0  \n",
       "70050          39918.0      215         0  \n",
       "97687           2630.0       92         0  \n",
       "77291           2630.0      245         0  \n",
       "\n",
       "[243909 rows x 12 columns]"
      ]
     },
     "execution_count": 5,
     "metadata": {},
     "output_type": "execute_result"
    }
   ],
   "source": [
    "df"
   ]
  },
  {
   "cell_type": "markdown",
   "id": "5e159053",
   "metadata": {},
   "source": [
    "## 1.1. Standardization"
   ]
  },
  {
   "cell_type": "markdown",
   "id": "c7d88a83",
   "metadata": {},
   "source": [
    "For numeric variables with normal distribution.\n"
   ]
  },
  {
   "cell_type": "code",
   "execution_count": 6,
   "id": "2a1aa79a",
   "metadata": {},
   "outputs": [],
   "source": [
    "ss = pp.StandardScaler()\n",
    "\n",
    "# annual_premium\n",
    "df['annual_premium'] = ss.fit_transform(df[['annual_premium']].values)\n",
    "pickle.dump(ss, open('/home/rafael/Repos/cross_sell_prediction/parameter/annual_premium_scaler.pkl', 'wb'))"
   ]
  },
  {
   "cell_type": "markdown",
   "id": "7d60d8af",
   "metadata": {},
   "source": [
    "## 1.2. Rescaling"
   ]
  },
  {
   "cell_type": "markdown",
   "id": "548e522d",
   "metadata": {},
   "source": [
    "For numeric variabless with NOT normal distribution."
   ]
  },
  {
   "cell_type": "code",
   "execution_count": 7,
   "id": "3e841fce",
   "metadata": {},
   "outputs": [],
   "source": [
    "mms_age = pp.MinMaxScaler()\n",
    "mms_vintage = pp.MinMaxScaler()\n",
    "\n",
    "# age\n",
    "df['age'] = mms_age.fit_transform(df[['age']].values)\n",
    "pickle.dump(mms_age, open('/home/rafael/Repos/cross_sell_prediction/parameter/age_scaler.pkl', 'wb'))\n",
    "\n",
    "# vintage\n",
    "df['vintage'] = mms_vintage.fit_transform(df[['vintage']].values)\n",
    "pickle.dump(mms_vintage, open('/home/rafael/Repos/cross_sell_prediction/parameter/vintage_scaler.pkl', 'wb'))"
   ]
  },
  {
   "cell_type": "markdown",
   "id": "3fc74a66",
   "metadata": {},
   "source": [
    "## 1.3. Encoding"
   ]
  },
  {
   "cell_type": "markdown",
   "id": "c39ee80b",
   "metadata": {},
   "source": [
    "Transform categorical variables into numeric.\n",
    "\n",
    "Some variables are aleready encoded (0 and 1): driving_license, vehicle_prev_insured, vehicle_damage"
   ]
  },
  {
   "cell_type": "code",
   "execution_count": 8,
   "id": "466994e7",
   "metadata": {},
   "outputs": [],
   "source": [
    "#gender: one hot encoder / target encoder (let's use target encoding)\n",
    "gender_target_encoder = df.groupby('gender')['response'].mean()\n",
    "df.loc[:,'gender'] = df['gender'].map(gender_target_encoder)\n",
    "pickle.dump (gender_target_encoder, open ('/home/rafael/Repos/cross_sell_prediction/parameter/gender_target_encoder.pkl', 'wb') )\n",
    "\n",
    "#region_code: frequency encoding / target encoding / weighted target encoding  (let's use target encoding)\n",
    "region_code_target_encoder = df.groupby('region_code')['response'].mean()\n",
    "df.loc[:,'region_code'] = df['region_code'].map(region_code_target_encoder)\n",
    "pickle.dump (region_code_target_encoder, open ('/home/rafael/Repos/cross_sell_prediction/parameter/region_code_target_encoder.pkl', 'wb') )\n",
    "\n",
    "#vehicle_age: one hot encoding / Label Encoding / frequency encoding (let's use one hot encoding)\n",
    "df = pd.get_dummies( df, prefix='vehicle_age', columns=['vehicle_age'] )\n",
    "\n",
    "#policy_sales_channel: frequency encoding / target encoding (let's use frequency encoding)\n",
    "policy_sales_freq_encoder = df.groupby('policy_sales_channel').size() / len (df)\n",
    "df.loc[:,'policy_sales_channel'] = df['policy_sales_channel'].map(policy_sales_freq_encoder)\n",
    "pickle.dump (policy_sales_freq_encoder, open ('/home/rafael/Repos/cross_sell_prediction/parameter/policy_sales_freq_encoder.pkl', 'wb') )"
   ]
  },
  {
   "cell_type": "code",
   "execution_count": 9,
   "id": "1e1000a9",
   "metadata": {},
   "outputs": [
    {
     "data": {
      "text/html": [
       "<div>\n",
       "<style scoped>\n",
       "    .dataframe tbody tr th:only-of-type {\n",
       "        vertical-align: middle;\n",
       "    }\n",
       "\n",
       "    .dataframe tbody tr th {\n",
       "        vertical-align: top;\n",
       "    }\n",
       "\n",
       "    .dataframe thead th {\n",
       "        text-align: right;\n",
       "    }\n",
       "</style>\n",
       "<table border=\"1\" class=\"dataframe\">\n",
       "  <thead>\n",
       "    <tr style=\"text-align: right;\">\n",
       "      <th></th>\n",
       "      <th>id</th>\n",
       "      <th>gender</th>\n",
       "      <th>age</th>\n",
       "      <th>region_code</th>\n",
       "      <th>policy_sales_channel</th>\n",
       "      <th>driving_license</th>\n",
       "      <th>vehicle_damage</th>\n",
       "      <th>previously_insured</th>\n",
       "      <th>annual_premium</th>\n",
       "      <th>vintage</th>\n",
       "      <th>response</th>\n",
       "      <th>vehicle_age_below_1_year</th>\n",
       "      <th>vehicle_age_between_1_2_year</th>\n",
       "      <th>vehicle_age_over_2_years</th>\n",
       "    </tr>\n",
       "  </thead>\n",
       "  <tbody>\n",
       "    <tr>\n",
       "      <th>334308</th>\n",
       "      <td>5496</td>\n",
       "      <td>0.103894</td>\n",
       "      <td>0.615385</td>\n",
       "      <td>0.113214</td>\n",
       "      <td>0.354144</td>\n",
       "      <td>1</td>\n",
       "      <td>0</td>\n",
       "      <td>1</td>\n",
       "      <td>0.141425</td>\n",
       "      <td>0.899654</td>\n",
       "      <td>0</td>\n",
       "      <td>0</td>\n",
       "      <td>1</td>\n",
       "      <td>0</td>\n",
       "    </tr>\n",
       "    <tr>\n",
       "      <th>355574</th>\n",
       "      <td>177274</td>\n",
       "      <td>0.103894</td>\n",
       "      <td>0.046154</td>\n",
       "      <td>0.096915</td>\n",
       "      <td>0.354144</td>\n",
       "      <td>1</td>\n",
       "      <td>1</td>\n",
       "      <td>0</td>\n",
       "      <td>1.509485</td>\n",
       "      <td>0.301038</td>\n",
       "      <td>0</td>\n",
       "      <td>1</td>\n",
       "      <td>0</td>\n",
       "      <td>0</td>\n",
       "    </tr>\n",
       "    <tr>\n",
       "      <th>295699</th>\n",
       "      <td>76651</td>\n",
       "      <td>0.138011</td>\n",
       "      <td>0.261538</td>\n",
       "      <td>0.085185</td>\n",
       "      <td>0.354144</td>\n",
       "      <td>1</td>\n",
       "      <td>0</td>\n",
       "      <td>1</td>\n",
       "      <td>0.531436</td>\n",
       "      <td>0.861592</td>\n",
       "      <td>0</td>\n",
       "      <td>0</td>\n",
       "      <td>1</td>\n",
       "      <td>0</td>\n",
       "    </tr>\n",
       "    <tr>\n",
       "      <th>107412</th>\n",
       "      <td>95460</td>\n",
       "      <td>0.138011</td>\n",
       "      <td>0.107692</td>\n",
       "      <td>0.074255</td>\n",
       "      <td>0.354144</td>\n",
       "      <td>1</td>\n",
       "      <td>0</td>\n",
       "      <td>0</td>\n",
       "      <td>1.319652</td>\n",
       "      <td>0.958478</td>\n",
       "      <td>0</td>\n",
       "      <td>1</td>\n",
       "      <td>0</td>\n",
       "      <td>0</td>\n",
       "    </tr>\n",
       "    <tr>\n",
       "      <th>191167</th>\n",
       "      <td>2508</td>\n",
       "      <td>0.138011</td>\n",
       "      <td>0.353846</td>\n",
       "      <td>0.103100</td>\n",
       "      <td>0.194003</td>\n",
       "      <td>1</td>\n",
       "      <td>0</td>\n",
       "      <td>1</td>\n",
       "      <td>-0.209817</td>\n",
       "      <td>0.366782</td>\n",
       "      <td>0</td>\n",
       "      <td>0</td>\n",
       "      <td>1</td>\n",
       "      <td>0</td>\n",
       "    </tr>\n",
       "  </tbody>\n",
       "</table>\n",
       "</div>"
      ],
      "text/plain": [
       "            id    gender       age  region_code  policy_sales_channel  \\\n",
       "334308    5496  0.103894  0.615385     0.113214              0.354144   \n",
       "355574  177274  0.103894  0.046154     0.096915              0.354144   \n",
       "295699   76651  0.138011  0.261538     0.085185              0.354144   \n",
       "107412   95460  0.138011  0.107692     0.074255              0.354144   \n",
       "191167    2508  0.138011  0.353846     0.103100              0.194003   \n",
       "\n",
       "        driving_license  vehicle_damage  previously_insured  annual_premium  \\\n",
       "334308                1               0                   1        0.141425   \n",
       "355574                1               1                   0        1.509485   \n",
       "295699                1               0                   1        0.531436   \n",
       "107412                1               0                   0        1.319652   \n",
       "191167                1               0                   1       -0.209817   \n",
       "\n",
       "         vintage  response  vehicle_age_below_1_year  \\\n",
       "334308  0.899654         0                         0   \n",
       "355574  0.301038         0                         1   \n",
       "295699  0.861592         0                         0   \n",
       "107412  0.958478         0                         1   \n",
       "191167  0.366782         0                         0   \n",
       "\n",
       "        vehicle_age_between_1_2_year  vehicle_age_over_2_years  \n",
       "334308                             1                         0  \n",
       "355574                             0                         0  \n",
       "295699                             1                         0  \n",
       "107412                             0                         0  \n",
       "191167                             1                         0  "
      ]
     },
     "execution_count": 9,
     "metadata": {},
     "output_type": "execute_result"
    }
   ],
   "source": [
    "df.head()"
   ]
  },
  {
   "cell_type": "markdown",
   "id": "e79ba91a",
   "metadata": {},
   "source": [
    "## 1.4. Validation Preparation\n"
   ]
  },
  {
   "cell_type": "markdown",
   "id": "6fd2f5cb",
   "metadata": {},
   "source": [
    "Replicate the transformation done in training(df) to x_validation dataset.\n"
   ]
  },
  {
   "cell_type": "code",
   "execution_count": 10,
   "id": "28a63b86",
   "metadata": {},
   "outputs": [
    {
     "data": {
      "text/plain": [
       "'If we used fit_transform() on our test data too, we would compute a new mean and variance, that is a new scale for each feature, \\n    and would let our model learn about our test data too. Using transform() we use the same mean and variance as it is calculated from our training data to transform our test data.'"
      ]
     },
     "execution_count": 10,
     "metadata": {},
     "output_type": "execute_result"
    }
   ],
   "source": [
    "# applies same training encoders to testing (validation, val) data\n",
    "\n",
    "# gender\n",
    "x_validation.loc[:, 'gender'] = x_validation.loc[:, 'gender'].map(gender_target_encoder)\n",
    "\n",
    "# age\n",
    "x_validation.loc[:, 'age'] = mms_age.transform(x_validation[['age']].values)\n",
    "\n",
    "# region_code\n",
    "x_validation.loc[:, 'region_code'] = x_validation.loc[:, 'region_code'].map(region_code_target_encoder)\n",
    "\n",
    "# vehicle_age\n",
    "x_validation = pd.get_dummies(x_validation, prefix = 'vehicle_age', columns = ['vehicle_age'])\n",
    "\n",
    "# annual_premium\n",
    "x_validation.loc[:, 'annual_premium'] = ss.transform(x_validation[['annual_premium']].values)\n",
    "\n",
    "# policy_sales_channel\n",
    "x_validation.loc[:, 'policy_sales_channel'] = x_validation['policy_sales_channel'].map(policy_sales_freq_encoder)\n",
    "\n",
    "# vintage\n",
    "x_validation.loc[:, 'vintage'] = mms_vintage.transform(x_validation[['vintage']].values)\n",
    "\n",
    "\n",
    "\"\"\"If we used fit_transform() on our test data too, we would compute a new mean and variance, that is a new scale for each feature, \n",
    "    and would let our model learn about our test data too. Using transform() we use the same mean and variance as it is calculated from our training data to transform our test data.\"\"\"\n"
   ]
  },
  {
   "cell_type": "code",
   "execution_count": 11,
   "id": "8141c036",
   "metadata": {},
   "outputs": [
    {
     "data": {
      "text/html": [
       "<div>\n",
       "<style scoped>\n",
       "    .dataframe tbody tr th:only-of-type {\n",
       "        vertical-align: middle;\n",
       "    }\n",
       "\n",
       "    .dataframe tbody tr th {\n",
       "        vertical-align: top;\n",
       "    }\n",
       "\n",
       "    .dataframe thead th {\n",
       "        text-align: right;\n",
       "    }\n",
       "</style>\n",
       "<table border=\"1\" class=\"dataframe\">\n",
       "  <thead>\n",
       "    <tr style=\"text-align: right;\">\n",
       "      <th></th>\n",
       "      <th>id</th>\n",
       "      <th>gender</th>\n",
       "      <th>age</th>\n",
       "      <th>region_code</th>\n",
       "      <th>policy_sales_channel</th>\n",
       "      <th>driving_license</th>\n",
       "      <th>vehicle_damage</th>\n",
       "      <th>previously_insured</th>\n",
       "      <th>annual_premium</th>\n",
       "      <th>vintage</th>\n",
       "      <th>vehicle_age_below_1_year</th>\n",
       "      <th>vehicle_age_between_1_2_year</th>\n",
       "      <th>vehicle_age_over_2_years</th>\n",
       "    </tr>\n",
       "  </thead>\n",
       "  <tbody>\n",
       "    <tr>\n",
       "      <th>190343</th>\n",
       "      <td>377513</td>\n",
       "      <td>0.103894</td>\n",
       "      <td>0.076923</td>\n",
       "      <td>0.097372</td>\n",
       "      <td>0.354144</td>\n",
       "      <td>1</td>\n",
       "      <td>0</td>\n",
       "      <td>1</td>\n",
       "      <td>0.152817</td>\n",
       "      <td>0.723183</td>\n",
       "      <td>1</td>\n",
       "      <td>0</td>\n",
       "      <td>0</td>\n",
       "    </tr>\n",
       "    <tr>\n",
       "      <th>352266</th>\n",
       "      <td>150455</td>\n",
       "      <td>0.103894</td>\n",
       "      <td>0.046154</td>\n",
       "      <td>0.096915</td>\n",
       "      <td>0.209115</td>\n",
       "      <td>1</td>\n",
       "      <td>0</td>\n",
       "      <td>1</td>\n",
       "      <td>0.699646</td>\n",
       "      <td>0.844291</td>\n",
       "      <td>1</td>\n",
       "      <td>0</td>\n",
       "      <td>0</td>\n",
       "    </tr>\n",
       "    <tr>\n",
       "      <th>372285</th>\n",
       "      <td>310573</td>\n",
       "      <td>0.103894</td>\n",
       "      <td>0.046154</td>\n",
       "      <td>0.103100</td>\n",
       "      <td>0.354144</td>\n",
       "      <td>1</td>\n",
       "      <td>0</td>\n",
       "      <td>1</td>\n",
       "      <td>1.160684</td>\n",
       "      <td>0.968858</td>\n",
       "      <td>1</td>\n",
       "      <td>0</td>\n",
       "      <td>0</td>\n",
       "    </tr>\n",
       "    <tr>\n",
       "      <th>329144</th>\n",
       "      <td>344499</td>\n",
       "      <td>0.138011</td>\n",
       "      <td>0.415385</td>\n",
       "      <td>0.186716</td>\n",
       "      <td>0.194003</td>\n",
       "      <td>1</td>\n",
       "      <td>1</td>\n",
       "      <td>0</td>\n",
       "      <td>0.532772</td>\n",
       "      <td>0.183391</td>\n",
       "      <td>0</td>\n",
       "      <td>1</td>\n",
       "      <td>0</td>\n",
       "    </tr>\n",
       "    <tr>\n",
       "      <th>367148</th>\n",
       "      <td>269643</td>\n",
       "      <td>0.103894</td>\n",
       "      <td>0.107692</td>\n",
       "      <td>0.074586</td>\n",
       "      <td>0.354144</td>\n",
       "      <td>1</td>\n",
       "      <td>0</td>\n",
       "      <td>1</td>\n",
       "      <td>-0.377156</td>\n",
       "      <td>0.048443</td>\n",
       "      <td>1</td>\n",
       "      <td>0</td>\n",
       "      <td>0</td>\n",
       "    </tr>\n",
       "    <tr>\n",
       "      <th>...</th>\n",
       "      <td>...</td>\n",
       "      <td>...</td>\n",
       "      <td>...</td>\n",
       "      <td>...</td>\n",
       "      <td>...</td>\n",
       "      <td>...</td>\n",
       "      <td>...</td>\n",
       "      <td>...</td>\n",
       "      <td>...</td>\n",
       "      <td>...</td>\n",
       "      <td>...</td>\n",
       "      <td>...</td>\n",
       "      <td>...</td>\n",
       "    </tr>\n",
       "    <tr>\n",
       "      <th>162444</th>\n",
       "      <td>154078</td>\n",
       "      <td>0.138011</td>\n",
       "      <td>0.015385</td>\n",
       "      <td>0.094821</td>\n",
       "      <td>0.354144</td>\n",
       "      <td>1</td>\n",
       "      <td>1</td>\n",
       "      <td>0</td>\n",
       "      <td>-0.414878</td>\n",
       "      <td>0.501730</td>\n",
       "      <td>1</td>\n",
       "      <td>0</td>\n",
       "      <td>0</td>\n",
       "    </tr>\n",
       "    <tr>\n",
       "      <th>295917</th>\n",
       "      <td>78469</td>\n",
       "      <td>0.103894</td>\n",
       "      <td>0.261538</td>\n",
       "      <td>0.186716</td>\n",
       "      <td>0.194003</td>\n",
       "      <td>1</td>\n",
       "      <td>0</td>\n",
       "      <td>0</td>\n",
       "      <td>-0.146811</td>\n",
       "      <td>0.491349</td>\n",
       "      <td>0</td>\n",
       "      <td>1</td>\n",
       "      <td>0</td>\n",
       "    </tr>\n",
       "    <tr>\n",
       "      <th>77873</th>\n",
       "      <td>239938</td>\n",
       "      <td>0.103894</td>\n",
       "      <td>0.569231</td>\n",
       "      <td>0.186716</td>\n",
       "      <td>0.001419</td>\n",
       "      <td>1</td>\n",
       "      <td>0</td>\n",
       "      <td>0</td>\n",
       "      <td>0.217218</td>\n",
       "      <td>0.429066</td>\n",
       "      <td>0</td>\n",
       "      <td>1</td>\n",
       "      <td>0</td>\n",
       "    </tr>\n",
       "    <tr>\n",
       "      <th>36300</th>\n",
       "      <td>289779</td>\n",
       "      <td>0.103894</td>\n",
       "      <td>0.430769</td>\n",
       "      <td>0.186716</td>\n",
       "      <td>0.003690</td>\n",
       "      <td>1</td>\n",
       "      <td>0</td>\n",
       "      <td>1</td>\n",
       "      <td>1.440666</td>\n",
       "      <td>0.685121</td>\n",
       "      <td>0</td>\n",
       "      <td>1</td>\n",
       "      <td>0</td>\n",
       "    </tr>\n",
       "    <tr>\n",
       "      <th>340002</th>\n",
       "      <td>51256</td>\n",
       "      <td>0.103894</td>\n",
       "      <td>0.046154</td>\n",
       "      <td>0.162441</td>\n",
       "      <td>0.010037</td>\n",
       "      <td>1</td>\n",
       "      <td>0</td>\n",
       "      <td>1</td>\n",
       "      <td>-0.038003</td>\n",
       "      <td>0.394464</td>\n",
       "      <td>1</td>\n",
       "      <td>0</td>\n",
       "      <td>0</td>\n",
       "    </tr>\n",
       "  </tbody>\n",
       "</table>\n",
       "<p>60978 rows × 13 columns</p>\n",
       "</div>"
      ],
      "text/plain": [
       "            id    gender       age  region_code  policy_sales_channel  \\\n",
       "190343  377513  0.103894  0.076923     0.097372              0.354144   \n",
       "352266  150455  0.103894  0.046154     0.096915              0.209115   \n",
       "372285  310573  0.103894  0.046154     0.103100              0.354144   \n",
       "329144  344499  0.138011  0.415385     0.186716              0.194003   \n",
       "367148  269643  0.103894  0.107692     0.074586              0.354144   \n",
       "...        ...       ...       ...          ...                   ...   \n",
       "162444  154078  0.138011  0.015385     0.094821              0.354144   \n",
       "295917   78469  0.103894  0.261538     0.186716              0.194003   \n",
       "77873   239938  0.103894  0.569231     0.186716              0.001419   \n",
       "36300   289779  0.103894  0.430769     0.186716              0.003690   \n",
       "340002   51256  0.103894  0.046154     0.162441              0.010037   \n",
       "\n",
       "        driving_license  vehicle_damage  previously_insured  annual_premium  \\\n",
       "190343                1               0                   1        0.152817   \n",
       "352266                1               0                   1        0.699646   \n",
       "372285                1               0                   1        1.160684   \n",
       "329144                1               1                   0        0.532772   \n",
       "367148                1               0                   1       -0.377156   \n",
       "...                 ...             ...                 ...             ...   \n",
       "162444                1               1                   0       -0.414878   \n",
       "295917                1               0                   0       -0.146811   \n",
       "77873                 1               0                   0        0.217218   \n",
       "36300                 1               0                   1        1.440666   \n",
       "340002                1               0                   1       -0.038003   \n",
       "\n",
       "         vintage  vehicle_age_below_1_year  vehicle_age_between_1_2_year  \\\n",
       "190343  0.723183                         1                             0   \n",
       "352266  0.844291                         1                             0   \n",
       "372285  0.968858                         1                             0   \n",
       "329144  0.183391                         0                             1   \n",
       "367148  0.048443                         1                             0   \n",
       "...          ...                       ...                           ...   \n",
       "162444  0.501730                         1                             0   \n",
       "295917  0.491349                         0                             1   \n",
       "77873   0.429066                         0                             1   \n",
       "36300   0.685121                         0                             1   \n",
       "340002  0.394464                         1                             0   \n",
       "\n",
       "        vehicle_age_over_2_years  \n",
       "190343                         0  \n",
       "352266                         0  \n",
       "372285                         0  \n",
       "329144                         0  \n",
       "367148                         0  \n",
       "...                          ...  \n",
       "162444                         0  \n",
       "295917                         0  \n",
       "77873                          0  \n",
       "36300                          0  \n",
       "340002                         0  \n",
       "\n",
       "[60978 rows x 13 columns]"
      ]
     },
     "execution_count": 11,
     "metadata": {},
     "output_type": "execute_result"
    }
   ],
   "source": [
    "x_validation"
   ]
  },
  {
   "cell_type": "markdown",
   "id": "d482c141",
   "metadata": {},
   "source": [
    "### 1.4.1. Check NA"
   ]
  },
  {
   "cell_type": "code",
   "execution_count": 12,
   "id": "0efb1a43",
   "metadata": {},
   "outputs": [
    {
     "data": {
      "text/plain": [
       "id                              0\n",
       "gender                          0\n",
       "age                             0\n",
       "region_code                     0\n",
       "policy_sales_channel            4\n",
       "driving_license                 0\n",
       "vehicle_damage                  0\n",
       "previously_insured              0\n",
       "annual_premium                  0\n",
       "vintage                         0\n",
       "vehicle_age_below_1_year        0\n",
       "vehicle_age_between_1_2_year    0\n",
       "vehicle_age_over_2_years        0\n",
       "dtype: int64"
      ]
     },
     "metadata": {},
     "output_type": "display_data"
    }
   ],
   "source": [
    "display(x_validation.isna().sum())"
   ]
  },
  {
   "cell_type": "code",
   "execution_count": 13,
   "id": "527e7a6b",
   "metadata": {},
   "outputs": [
    {
     "data": {
      "text/html": [
       "<div>\n",
       "<style scoped>\n",
       "    .dataframe tbody tr th:only-of-type {\n",
       "        vertical-align: middle;\n",
       "    }\n",
       "\n",
       "    .dataframe tbody tr th {\n",
       "        vertical-align: top;\n",
       "    }\n",
       "\n",
       "    .dataframe thead th {\n",
       "        text-align: right;\n",
       "    }\n",
       "</style>\n",
       "<table border=\"1\" class=\"dataframe\">\n",
       "  <thead>\n",
       "    <tr style=\"text-align: right;\">\n",
       "      <th></th>\n",
       "      <th>id</th>\n",
       "      <th>gender</th>\n",
       "      <th>age</th>\n",
       "      <th>region_code</th>\n",
       "      <th>policy_sales_channel</th>\n",
       "      <th>driving_license</th>\n",
       "      <th>vehicle_damage</th>\n",
       "      <th>previously_insured</th>\n",
       "      <th>annual_premium</th>\n",
       "      <th>vintage</th>\n",
       "      <th>vehicle_age_below_1_year</th>\n",
       "      <th>vehicle_age_between_1_2_year</th>\n",
       "      <th>vehicle_age_over_2_years</th>\n",
       "    </tr>\n",
       "  </thead>\n",
       "  <tbody>\n",
       "    <tr>\n",
       "      <th>263985</th>\n",
       "      <td>204672</td>\n",
       "      <td>0.103894</td>\n",
       "      <td>0.353846</td>\n",
       "      <td>0.096915</td>\n",
       "      <td>NaN</td>\n",
       "      <td>1</td>\n",
       "      <td>0</td>\n",
       "      <td>1</td>\n",
       "      <td>0.074931</td>\n",
       "      <td>0.961938</td>\n",
       "      <td>0</td>\n",
       "      <td>1</td>\n",
       "      <td>0</td>\n",
       "    </tr>\n",
       "    <tr>\n",
       "      <th>326437</th>\n",
       "      <td>322491</td>\n",
       "      <td>0.138011</td>\n",
       "      <td>0.415385</td>\n",
       "      <td>0.096915</td>\n",
       "      <td>NaN</td>\n",
       "      <td>1</td>\n",
       "      <td>0</td>\n",
       "      <td>1</td>\n",
       "      <td>0.000765</td>\n",
       "      <td>0.882353</td>\n",
       "      <td>0</td>\n",
       "      <td>1</td>\n",
       "      <td>0</td>\n",
       "    </tr>\n",
       "    <tr>\n",
       "      <th>74257</th>\n",
       "      <td>211105</td>\n",
       "      <td>0.138011</td>\n",
       "      <td>0.430769</td>\n",
       "      <td>0.162441</td>\n",
       "      <td>NaN</td>\n",
       "      <td>1</td>\n",
       "      <td>0</td>\n",
       "      <td>1</td>\n",
       "      <td>-0.048349</td>\n",
       "      <td>0.321799</td>\n",
       "      <td>0</td>\n",
       "      <td>1</td>\n",
       "      <td>0</td>\n",
       "    </tr>\n",
       "    <tr>\n",
       "      <th>314741</th>\n",
       "      <td>228806</td>\n",
       "      <td>0.138011</td>\n",
       "      <td>0.384615</td>\n",
       "      <td>0.186716</td>\n",
       "      <td>NaN</td>\n",
       "      <td>1</td>\n",
       "      <td>1</td>\n",
       "      <td>0</td>\n",
       "      <td>1.581791</td>\n",
       "      <td>0.923875</td>\n",
       "      <td>0</td>\n",
       "      <td>1</td>\n",
       "      <td>0</td>\n",
       "    </tr>\n",
       "  </tbody>\n",
       "</table>\n",
       "</div>"
      ],
      "text/plain": [
       "            id    gender       age  region_code  policy_sales_channel  \\\n",
       "263985  204672  0.103894  0.353846     0.096915                   NaN   \n",
       "326437  322491  0.138011  0.415385     0.096915                   NaN   \n",
       "74257   211105  0.138011  0.430769     0.162441                   NaN   \n",
       "314741  228806  0.138011  0.384615     0.186716                   NaN   \n",
       "\n",
       "        driving_license  vehicle_damage  previously_insured  annual_premium  \\\n",
       "263985                1               0                   1        0.074931   \n",
       "326437                1               0                   1        0.000765   \n",
       "74257                 1               0                   1       -0.048349   \n",
       "314741                1               1                   0        1.581791   \n",
       "\n",
       "         vintage  vehicle_age_below_1_year  vehicle_age_between_1_2_year  \\\n",
       "263985  0.961938                         0                             1   \n",
       "326437  0.882353                         0                             1   \n",
       "74257   0.321799                         0                             1   \n",
       "314741  0.923875                         0                             1   \n",
       "\n",
       "        vehicle_age_over_2_years  \n",
       "263985                         0  \n",
       "326437                         0  \n",
       "74257                          0  \n",
       "314741                         0  "
      ]
     },
     "execution_count": 13,
     "metadata": {},
     "output_type": "execute_result"
    }
   ],
   "source": [
    "x_validation[x_validation['policy_sales_channel'].isna()]"
   ]
  },
  {
   "cell_type": "code",
   "execution_count": 14,
   "id": "dedd47f2",
   "metadata": {},
   "outputs": [],
   "source": [
    "x_validation = x_validation.fillna(0)"
   ]
  },
  {
   "cell_type": "code",
   "execution_count": 15,
   "id": "cb0710af",
   "metadata": {},
   "outputs": [
    {
     "data": {
      "text/plain": [
       "id                              0\n",
       "gender                          0\n",
       "age                             0\n",
       "region_code                     0\n",
       "policy_sales_channel            0\n",
       "driving_license                 0\n",
       "vehicle_damage                  0\n",
       "previously_insured              0\n",
       "annual_premium                  0\n",
       "vintage                         0\n",
       "vehicle_age_below_1_year        0\n",
       "vehicle_age_between_1_2_year    0\n",
       "vehicle_age_over_2_years        0\n",
       "dtype: int64"
      ]
     },
     "metadata": {},
     "output_type": "display_data"
    }
   ],
   "source": [
    "display(x_validation.isna().sum())"
   ]
  },
  {
   "cell_type": "markdown",
   "id": "7ca21b01",
   "metadata": {},
   "source": [
    "Now it is all set with the test database.\n"
   ]
  },
  {
   "cell_type": "markdown",
   "id": "2bffdfb8",
   "metadata": {},
   "source": [
    "# 2.0. FEATURE SELECTION"
   ]
  },
  {
   "cell_type": "code",
   "execution_count": 16,
   "id": "81bada56",
   "metadata": {},
   "outputs": [
    {
     "data": {
      "text/html": [
       "<style>#sk-container-id-1 {color: black;background-color: white;}#sk-container-id-1 pre{padding: 0;}#sk-container-id-1 div.sk-toggleable {background-color: white;}#sk-container-id-1 label.sk-toggleable__label {cursor: pointer;display: block;width: 100%;margin-bottom: 0;padding: 0.3em;box-sizing: border-box;text-align: center;}#sk-container-id-1 label.sk-toggleable__label-arrow:before {content: \"▸\";float: left;margin-right: 0.25em;color: #696969;}#sk-container-id-1 label.sk-toggleable__label-arrow:hover:before {color: black;}#sk-container-id-1 div.sk-estimator:hover label.sk-toggleable__label-arrow:before {color: black;}#sk-container-id-1 div.sk-toggleable__content {max-height: 0;max-width: 0;overflow: hidden;text-align: left;background-color: #f0f8ff;}#sk-container-id-1 div.sk-toggleable__content pre {margin: 0.2em;color: black;border-radius: 0.25em;background-color: #f0f8ff;}#sk-container-id-1 input.sk-toggleable__control:checked~div.sk-toggleable__content {max-height: 200px;max-width: 100%;overflow: auto;}#sk-container-id-1 input.sk-toggleable__control:checked~label.sk-toggleable__label-arrow:before {content: \"▾\";}#sk-container-id-1 div.sk-estimator input.sk-toggleable__control:checked~label.sk-toggleable__label {background-color: #d4ebff;}#sk-container-id-1 div.sk-label input.sk-toggleable__control:checked~label.sk-toggleable__label {background-color: #d4ebff;}#sk-container-id-1 input.sk-hidden--visually {border: 0;clip: rect(1px 1px 1px 1px);clip: rect(1px, 1px, 1px, 1px);height: 1px;margin: -1px;overflow: hidden;padding: 0;position: absolute;width: 1px;}#sk-container-id-1 div.sk-estimator {font-family: monospace;background-color: #f0f8ff;border: 1px dotted black;border-radius: 0.25em;box-sizing: border-box;margin-bottom: 0.5em;}#sk-container-id-1 div.sk-estimator:hover {background-color: #d4ebff;}#sk-container-id-1 div.sk-parallel-item::after {content: \"\";width: 100%;border-bottom: 1px solid gray;flex-grow: 1;}#sk-container-id-1 div.sk-label:hover label.sk-toggleable__label {background-color: #d4ebff;}#sk-container-id-1 div.sk-serial::before {content: \"\";position: absolute;border-left: 1px solid gray;box-sizing: border-box;top: 0;bottom: 0;left: 50%;z-index: 0;}#sk-container-id-1 div.sk-serial {display: flex;flex-direction: column;align-items: center;background-color: white;padding-right: 0.2em;padding-left: 0.2em;position: relative;}#sk-container-id-1 div.sk-item {position: relative;z-index: 1;}#sk-container-id-1 div.sk-parallel {display: flex;align-items: stretch;justify-content: center;background-color: white;position: relative;}#sk-container-id-1 div.sk-item::before, #sk-container-id-1 div.sk-parallel-item::before {content: \"\";position: absolute;border-left: 1px solid gray;box-sizing: border-box;top: 0;bottom: 0;left: 50%;z-index: -1;}#sk-container-id-1 div.sk-parallel-item {display: flex;flex-direction: column;z-index: 1;position: relative;background-color: white;}#sk-container-id-1 div.sk-parallel-item:first-child::after {align-self: flex-end;width: 50%;}#sk-container-id-1 div.sk-parallel-item:last-child::after {align-self: flex-start;width: 50%;}#sk-container-id-1 div.sk-parallel-item:only-child::after {width: 0;}#sk-container-id-1 div.sk-dashed-wrapped {border: 1px dashed gray;margin: 0 0.4em 0.5em 0.4em;box-sizing: border-box;padding-bottom: 0.4em;background-color: white;}#sk-container-id-1 div.sk-label label {font-family: monospace;font-weight: bold;display: inline-block;line-height: 1.2em;}#sk-container-id-1 div.sk-label-container {text-align: center;}#sk-container-id-1 div.sk-container {/* jupyter's `normalize.less` sets `[hidden] { display: none; }` but bootstrap.min.css set `[hidden] { display: none !important; }` so we also need the `!important` here to be able to override the default hidden behavior on the sphinx rendered scikit-learn.org. See: https://github.com/scikit-learn/scikit-learn/issues/21755 */display: inline-block !important;position: relative;}#sk-container-id-1 div.sk-text-repr-fallback {display: none;}</style><div id=\"sk-container-id-1\" class=\"sk-top-container\"><div class=\"sk-text-repr-fallback\"><pre>ExtraTreesClassifier(n_estimators=250, n_jobs=-2, random_state=0)</pre><b>In a Jupyter environment, please rerun this cell to show the HTML representation or trust the notebook. <br />On GitHub, the HTML representation is unable to render, please try loading this page with nbviewer.org.</b></div><div class=\"sk-container\" hidden><div class=\"sk-item\"><div class=\"sk-estimator sk-toggleable\"><input class=\"sk-toggleable__control sk-hidden--visually\" id=\"sk-estimator-id-1\" type=\"checkbox\" checked><label for=\"sk-estimator-id-1\" class=\"sk-toggleable__label sk-toggleable__label-arrow\">ExtraTreesClassifier</label><div class=\"sk-toggleable__content\"><pre>ExtraTreesClassifier(n_estimators=250, n_jobs=-2, random_state=0)</pre></div></div></div></div></div>"
      ],
      "text/plain": [
       "ExtraTreesClassifier(n_estimators=250, n_jobs=-2, random_state=0)"
      ]
     },
     "execution_count": 16,
     "metadata": {},
     "output_type": "execute_result"
    }
   ],
   "source": [
    "# model definition\n",
    "extra_trees = en.ExtraTreesClassifier(n_estimators = 250, random_state = 0, n_jobs = -2) # n_jobs will not use all cores\n",
    "\n",
    "# data preparation\n",
    "x_train_n = df.drop(['id', 'response'], axis = 1)\n",
    "y_train_n = y_train.values\n",
    "extra_trees.fit(x_train_n, y_train_n)"
   ]
  },
  {
   "cell_type": "code",
   "execution_count": 17,
   "id": "b0b4c19d",
   "metadata": {},
   "outputs": [
    {
     "name": "stdout",
     "output_type": "stream",
     "text": [
      "Feature Ranking:\n",
      "                        feature  importance\n",
      "0                       vintage    0.270930\n",
      "0                annual_premium    0.241232\n",
      "0                           age    0.168139\n",
      "0                   region_code    0.106949\n",
      "0                vehicle_damage    0.068635\n",
      "0          policy_sales_channel    0.059330\n",
      "0            previously_insured    0.056275\n",
      "0      vehicle_age_below_1_year    0.014272\n",
      "0  vehicle_age_between_1_2_year    0.006185\n",
      "0                        gender    0.005160\n",
      "0      vehicle_age_over_2_years    0.002354\n",
      "0               driving_license    0.000539\n"
     ]
    },
    {
     "data": {
      "image/png": "[encoded data removed]",
      "text/plain": [
       "<Figure size 432x288 with 1 Axes>"
      ]
     },
     "metadata": {
      "needs_background": "light"
     },
     "output_type": "display_data"
    }
   ],
   "source": [
    "importances = extra_trees.feature_importances_\n",
    "std = np.std( [tree.feature_importances_ for tree in extra_trees.estimators_], axis=0 ) #calculating the std deviation\n",
    "indices = np.argsort(importances)[::-1] #trees importance ordered by greater value\n",
    "\n",
    "# Print feature ranking\n",
    "print('Feature Ranking:')\n",
    "df_imp = pd.DataFrame()\n",
    "for i, j in zip( x_train_n, extra_trees.feature_importances_ ):\n",
    "    aux = pd.DataFrame( {'feature':i , 'importance': j}, index=[0] )\n",
    "    df_imp = pd.concat( [df_imp, aux], axis=0 )\n",
    "    \n",
    "print(df_imp.sort_values('importance', ascending=False) )\n",
    "\n",
    "# Plot the imputity-based feature importances of the forest\n",
    "plt.figure()\n",
    "plt.title('Feature importance')\n",
    "plt.bar( range(x_train_n.shape[1]), importances[indices], color='r', yerr=std[indices], align='center' )\n",
    "plt.xticks( range(x_train_n.shape[1]), indices )\n",
    "plt.xlim( [-1, x_train_n.shape[1]] )\n",
    "plt.show()"
   ]
  },
  {
   "cell_type": "code",
   "execution_count": 18,
   "id": "814e2ec5",
   "metadata": {},
   "outputs": [],
   "source": [
    "cols_selected = ['vintage','annual_premium','age', 'region_code','vehicle_damage', \n",
    "                 'policy_sales_channel', 'previously_insured']\n",
    "\n",
    "# using only the selected features to train and test (validation) the model\n",
    "x_train = df[cols_selected]\n",
    "x_val = x_validation[cols_selected]\n",
    "y_val = y_validation.copy()"
   ]
  },
  {
   "cell_type": "markdown",
   "id": "6c4e882f",
   "metadata": {},
   "source": [
    "# 3.0. MACHINE LEARNING MODEL"
   ]
  },
  {
   "cell_type": "markdown",
   "id": "2b445050",
   "metadata": {},
   "source": [
    "Learning to Rank Evaluation Metrics:\n",
    "\n",
    "For each model, a Cumulative Gain and Lift curve will be plotted:\n",
    "\n",
    "- **Cumulative Gain Curve:** ordered by purchase probability, crosses the percentage of the customer base with the percentage of customers likely to buy.\n",
    "\n",
    "Ex: 20% of the customer base (x), ordered by the purchase probability (y), contains 60% of all interested in vehicle insurance.\n",
    "\n",
    "- **Lift Curve:** represents the difference between the gain curve and the random list. Therefore, it tells you how much better the model is compared to the random list.\n",
    "\n",
    "Ex: By approaching 20% of the ordered list, the model is 2,5 times better than the random list.\n",
    "\n",
    "For each model, Precision and recall at k will also be calculated:\n",
    "\n",
    "- **Precision at top k:** counts how many predictions were correct up to k, and divides by all predictions made up to k.\n",
    "\n",
    "**Ex:** Precision at top 10% k = 0.40 - It means that in 10% of the base, the model got 40% right compared to the perfect model, which would get 100% right at top 10%, being there are 12 % of total customers interested (no mistakes up to 12%).\n",
    "\n",
    "- **Recall at top k:** counts how many predictions were correct up to k, and divides by all true examples.\n",
    "\n",
    "**Ex:** Recall at top 40% (or 12196) k = 0.8 - It means that 80% of the total interested customers appear in the top-40% results of the ordered list."
   ]
  },
  {
   "cell_type": "markdown",
   "id": "62073152",
   "metadata": {},
   "source": [
    "## 3.1. KNN"
   ]
  },
  {
   "cell_type": "code",
   "execution_count": 19,
   "id": "9f460db1",
   "metadata": {
    "cell_style": "center",
    "hide_input": false
   },
   "outputs": [
    {
     "data": {
      "image/png": "[encoded data removed]",
      "text/plain": [
       "<Figure size 432x288 with 1 Axes>"
      ]
     },
     "metadata": {
      "needs_background": "light"
     },
     "output_type": "display_data"
    }
   ],
   "source": [
    "# Model definition\n",
    "knn_model = nh.KNeighborsClassifier( n_neighbors=8 )\n",
    "\n",
    "# Model training\n",
    "knn_model.fit( x_train, y_train.values.ravel() )\n",
    "\n",
    "# Model prediction (proba)\n",
    "yhat_knn = knn_model.predict_proba( x_val );\n",
    "\n",
    "# Accumulative Gain\n",
    "skplt.metrics.plot_cumulative_gain( y_val, yhat_knn);\n",
    "\n",
    "# What does this chart tell?\n",
    "# if I make the offer to 40% of the ordered list, i will find ~85% of interested people (with 08 neighbors)\n",
    "# this means the KNN model left interested people on the end of the list \n",
    "# more KNN Neighbors = i will find more interested people"
   ]
  },
  {
   "cell_type": "code",
   "execution_count": 20,
   "id": "bd5c8013",
   "metadata": {
    "cell_style": "split",
    "hide_input": false,
    "scrolled": true
   },
   "outputs": [
    {
     "data": {
      "image/png": "[encoded data removed]",
      "text/plain": [
       "<Figure size 432x288 with 1 Axes>"
      ]
     },
     "metadata": {
      "needs_background": "light"
     },
     "output_type": "display_data"
    }
   ],
   "source": [
    "# Lift Curve\n",
    "skplt.metrics.plot_lift_curve(y_val, yhat_knn);"
   ]
  },
  {
   "cell_type": "markdown",
   "id": "2695108e",
   "metadata": {},
   "source": [
    "## 3.2. Logistic Regression"
   ]
  },
  {
   "cell_type": "code",
   "execution_count": 21,
   "id": "b1cb771c",
   "metadata": {},
   "outputs": [
    {
     "data": {
      "image/png": "[encoded data removed]",
      "text/plain": [
       "<Figure size 432x288 with 1 Axes>"
      ]
     },
     "metadata": {
      "needs_background": "light"
     },
     "output_type": "display_data"
    }
   ],
   "source": [
    "# Model definition\n",
    "lr_model = lm.LogisticRegression( random_state=42 )\n",
    "# Model training\n",
    "lr_model.fit( x_train, y_train.values.ravel() )\n",
    "# Model prediction (proba)\n",
    "yhat_lr = lr_model.predict_proba( x_val )\n",
    "\n",
    "skplt.metrics.plot_cumulative_gain( y_val, yhat_lr);"
   ]
  },
  {
   "cell_type": "code",
   "execution_count": 22,
   "id": "f2044813",
   "metadata": {},
   "outputs": [
    {
     "data": {
      "image/png": "[encoded data removed]",
      "text/plain": [
       "<Figure size 432x288 with 1 Axes>"
      ]
     },
     "metadata": {
      "needs_background": "light"
     },
     "output_type": "display_data"
    }
   ],
   "source": [
    "# Lift Curve\n",
    "skplt.metrics.plot_lift_curve(y_val, yhat_lr);"
   ]
  },
  {
   "cell_type": "markdown",
   "id": "d48d14b3",
   "metadata": {},
   "source": [
    "## 3.3. Extra Trees"
   ]
  },
  {
   "cell_type": "code",
   "execution_count": 23,
   "id": "c8223e31",
   "metadata": {
    "hide_input": false
   },
   "outputs": [
    {
     "data": {
      "image/png": "[encoded data removed]",
      "text/plain": [
       "<Figure size 432x288 with 1 Axes>"
      ]
     },
     "metadata": {
      "needs_background": "light"
     },
     "output_type": "display_data"
    }
   ],
   "source": [
    "# model definition\n",
    "et = en.ExtraTreesClassifier( n_estimators=100, random_state=30, n_jobs=-1 )\n",
    "# model training\n",
    "et.fit ( x_train, y_train.values.ravel() )\n",
    "# Model prediction (proba)\n",
    "yhat_et = et.predict_proba(x_val)\n",
    "\n",
    "skplt.metrics.plot_cumulative_gain( y_val, yhat_et);"
   ]
  },
  {
   "cell_type": "code",
   "execution_count": 24,
   "id": "b67114fb",
   "metadata": {
    "hide_input": false
   },
   "outputs": [
    {
     "data": {
      "image/png": "[encoded data removed]",
      "text/plain": [
       "<Figure size 432x288 with 1 Axes>"
      ]
     },
     "metadata": {
      "needs_background": "light"
     },
     "output_type": "display_data"
    }
   ],
   "source": [
    "skplt.metrics.plot_lift_curve(y_val, yhat_et);"
   ]
  },
  {
   "cell_type": "markdown",
   "id": "0cb8b0d9",
   "metadata": {},
   "source": [
    "## 3.4. Random Forest"
   ]
  },
  {
   "cell_type": "code",
   "execution_count": 25,
   "id": "98e252aa",
   "metadata": {},
   "outputs": [
    {
     "data": {
      "image/png": "[encoded data removed]",
      "text/plain": [
       "<Figure size 432x288 with 1 Axes>"
      ]
     },
     "metadata": {
      "needs_background": "light"
     },
     "output_type": "display_data"
    }
   ],
   "source": [
    "# model definition\n",
    "rf = en.RandomForestClassifier(n_estimators = 100, n_jobs = -2, random_state = 42)\n",
    "\n",
    "# model training\n",
    "rf.fit(x_train, y_train)\n",
    "\n",
    "# model prediction - Generalizing Power\n",
    "yhat_rf = rf.predict_proba(x_val)\n",
    "\n",
    "# Cumulative Gain\n",
    "skplt.metrics.plot_cumulative_gain(y_val, yhat_rf);"
   ]
  },
  {
   "cell_type": "code",
   "execution_count": 26,
   "id": "56dc7323",
   "metadata": {},
   "outputs": [
    {
     "data": {
      "image/png": "[encoded data removed]",
      "text/plain": [
       "<Figure size 432x288 with 1 Axes>"
      ]
     },
     "metadata": {
      "needs_background": "light"
     },
     "output_type": "display_data"
    }
   ],
   "source": [
    "# Lift Curve\n",
    "skplt.metrics.plot_lift_curve(y_val, yhat_rf);"
   ]
  },
  {
   "cell_type": "markdown",
   "id": "cd7358ea",
   "metadata": {},
   "source": [
    "# 4. MODEL PERFORMANCE"
   ]
  },
  {
   "cell_type": "markdown",
   "id": "3d61b4f1",
   "metadata": {},
   "source": [
    "## 4.1. Holdout Validation"
   ]
  },
  {
   "cell_type": "code",
   "execution_count": 27,
   "id": "e9c04aca",
   "metadata": {},
   "outputs": [
    {
     "data": {
      "text/html": [
       "<div>\n",
       "<style scoped>\n",
       "    .dataframe tbody tr th:only-of-type {\n",
       "        vertical-align: middle;\n",
       "    }\n",
       "\n",
       "    .dataframe tbody tr th {\n",
       "        vertical-align: top;\n",
       "    }\n",
       "\n",
       "    .dataframe thead th {\n",
       "        text-align: right;\n",
       "    }\n",
       "</style>\n",
       "<table border=\"1\" class=\"dataframe\">\n",
       "  <thead>\n",
       "    <tr style=\"text-align: right;\">\n",
       "      <th></th>\n",
       "      <th>model</th>\n",
       "      <th>precision</th>\n",
       "      <th>recall</th>\n",
       "      <th>k%</th>\n",
       "    </tr>\n",
       "  </thead>\n",
       "  <tbody>\n",
       "    <tr>\n",
       "      <th>0</th>\n",
       "      <td>score_rf</td>\n",
       "      <td>0.2741</td>\n",
       "      <td>0.8882</td>\n",
       "      <td>40.0</td>\n",
       "    </tr>\n",
       "    <tr>\n",
       "      <th>1</th>\n",
       "      <td>score_et</td>\n",
       "      <td>0.2713</td>\n",
       "      <td>0.8790</td>\n",
       "      <td>40.0</td>\n",
       "    </tr>\n",
       "    <tr>\n",
       "      <th>2</th>\n",
       "      <td>score_lr</td>\n",
       "      <td>0.2666</td>\n",
       "      <td>0.8637</td>\n",
       "      <td>40.0</td>\n",
       "    </tr>\n",
       "    <tr>\n",
       "      <th>3</th>\n",
       "      <td>score_knn</td>\n",
       "      <td>0.2644</td>\n",
       "      <td>0.8567</td>\n",
       "      <td>40.0</td>\n",
       "    </tr>\n",
       "  </tbody>\n",
       "</table>\n",
       "</div>"
      ],
      "text/plain": [
       "       model  precision  recall    k%\n",
       "0   score_rf     0.2741  0.8882  40.0\n",
       "1   score_et     0.2713  0.8790  40.0\n",
       "2   score_lr     0.2666  0.8637  40.0\n",
       "3  score_knn     0.2644  0.8567  40.0"
      ]
     },
     "execution_count": 27,
     "metadata": {},
     "output_type": "execute_result"
    }
   ],
   "source": [
    "# copy data\n",
    "df_perf = x_validation.copy()\n",
    "df_perf['response'] = y_validation.copy()\n",
    "\n",
    "# propensity score - from KNN Model\n",
    "# yhat = Prediction probabilities for each class returned by a classifier.\n",
    "df_perf['score_knn'] = yhat_knn[:,1].tolist() # get all propensity score values of response = 1 then converts to list\n",
    "# yhat is an array resulted from predict_proba methods. This result shows class probabilities which classes in lexicographical order\n",
    "# source: https://github.com/scikit-learn/scikit-learn/blob/7e1e6d09b/sklearn/neighbors/_classification.py#L240\n",
    "# In this specific case, the class on position '1' is the response '1'.\n",
    "\n",
    "# propensity score - from Linear Regression Model\n",
    "df_perf['score_lr'] = yhat_lr[:,1].tolist() # get all propensity score values of response = 1 then converts to list\n",
    "\n",
    "# propensity score - from Extra Trees Model\n",
    "df_perf['score_et'] = yhat_et[:,1].tolist() # get all propensity score values of response = 1 then converts to list\n",
    "\n",
    "# propensity score - from Random Forest Model\n",
    "df_perf['score_rf'] = yhat_rf[:,1].tolist() # get all propensity score values of response = 1 then converts to list\n",
    "\n",
    "# models to evaluate\n",
    "scores = ['score_knn', 'score_lr', 'score_et', 'score_rf']\n",
    "\n",
    "# create list to store performance metrics\n",
    "performance = []\n",
    "\n",
    "k = 0.4 # sample percentage\n",
    "\n",
    "for i in scores:\n",
    "    # compute Precision at k (Precision Top K) = ratio of True Positives within all Positives?\n",
    "    precision = precision_at_k(df_perf, i, k)\n",
    "\n",
    "    # compute Recall at k = ratio of True Positives within all instances of the dataset\n",
    "    recall = recall_at_k(df_perf, i, k)\n",
    "\n",
    "    # save performance metrics\n",
    "    performance.append([i, precision, recall, k])\n",
    "\n",
    "# convert performance metrics list to dataframe\n",
    "df_perf_rank = pd.DataFrame(performance, columns = ['model', 'precision', 'recall', 'k%'])\n",
    "df_perf_rank['k%'] = df_perf_rank['k%'] * 100\n",
    "df_perf_rank = df_perf_rank.round(decimals = {'precision' : 4, 'recall' : 4 , 'k%' : 0}).sort_values('recall', ascending = False).reset_index(drop=True)\n",
    "\n",
    "df_perf_rank"
   ]
  },
  {
   "cell_type": "markdown",
   "id": "281538c6",
   "metadata": {},
   "source": [
    "## 4.2. K-Fold Cross Validation"
   ]
  },
  {
   "cell_type": "code",
   "execution_count": 28,
   "id": "18d997ac",
   "metadata": {},
   "outputs": [],
   "source": [
    "# copy data\n",
    "X = x_val.copy()\n",
    "y = y_validation.copy()\n",
    "\n",
    "# merge data - to unify x_train and x_val (datasets with selected columns from feature selection)\n",
    "X = pd.concat([X,x_train.copy()], ignore_index = True)\n",
    "y = pd.concat([y, y_train.copy()], ignore_index = True)"
   ]
  },
  {
   "cell_type": "code",
   "execution_count": 29,
   "id": "7b137303",
   "metadata": {},
   "outputs": [
    {
     "data": {
      "text/html": [
       "<div>\n",
       "<style scoped>\n",
       "    .dataframe tbody tr th:only-of-type {\n",
       "        vertical-align: middle;\n",
       "    }\n",
       "\n",
       "    .dataframe tbody tr th {\n",
       "        vertical-align: top;\n",
       "    }\n",
       "\n",
       "    .dataframe thead th {\n",
       "        text-align: right;\n",
       "    }\n",
       "</style>\n",
       "<table border=\"1\" class=\"dataframe\">\n",
       "  <thead>\n",
       "    <tr style=\"text-align: right;\">\n",
       "      <th></th>\n",
       "      <th>model</th>\n",
       "      <th>k_folds</th>\n",
       "      <th>k</th>\n",
       "      <th>precision_at_k_mean</th>\n",
       "      <th>precision_at_k_std</th>\n",
       "      <th>recall_at_k_mean</th>\n",
       "      <th>recall_at_k_std</th>\n",
       "    </tr>\n",
       "  </thead>\n",
       "  <tbody>\n",
       "    <tr>\n",
       "      <th>0</th>\n",
       "      <td>score_knn</td>\n",
       "      <td>5</td>\n",
       "      <td>0.4</td>\n",
       "      <td>0.2633</td>\n",
       "      <td>0.0040</td>\n",
       "      <td>0.8594</td>\n",
       "      <td>0.0027</td>\n",
       "    </tr>\n",
       "    <tr>\n",
       "      <th>1</th>\n",
       "      <td>score_lr</td>\n",
       "      <td>5</td>\n",
       "      <td>0.4</td>\n",
       "      <td>0.2666</td>\n",
       "      <td>0.0030</td>\n",
       "      <td>0.8702</td>\n",
       "      <td>0.0064</td>\n",
       "    </tr>\n",
       "    <tr>\n",
       "      <th>2</th>\n",
       "      <td>score_rf</td>\n",
       "      <td>5</td>\n",
       "      <td>0.4</td>\n",
       "      <td>0.2734</td>\n",
       "      <td>0.0039</td>\n",
       "      <td>0.8922</td>\n",
       "      <td>0.0036</td>\n",
       "    </tr>\n",
       "    <tr>\n",
       "      <th>3</th>\n",
       "      <td>score_et</td>\n",
       "      <td>5</td>\n",
       "      <td>0.4</td>\n",
       "      <td>0.2696</td>\n",
       "      <td>0.0034</td>\n",
       "      <td>0.8798</td>\n",
       "      <td>0.0030</td>\n",
       "    </tr>\n",
       "  </tbody>\n",
       "</table>\n",
       "</div>"
      ],
      "text/plain": [
       "       model  k_folds    k  precision_at_k_mean  precision_at_k_std  \\\n",
       "0  score_knn        5  0.4               0.2633              0.0040   \n",
       "1   score_lr        5  0.4               0.2666              0.0030   \n",
       "2   score_rf        5  0.4               0.2734              0.0039   \n",
       "3   score_et        5  0.4               0.2696              0.0034   \n",
       "\n",
       "   recall_at_k_mean  recall_at_k_std  \n",
       "0            0.8594           0.0027  \n",
       "1            0.8702           0.0064  \n",
       "2            0.8922           0.0036  \n",
       "3            0.8798           0.0030  "
      ]
     },
     "execution_count": 29,
     "metadata": {},
     "output_type": "execute_result"
    }
   ],
   "source": [
    "# models definition\n",
    "knn_model = nh.KNeighborsClassifier(n_neighbors = 7)\n",
    "lr_model = lm.LogisticRegression(random_state = 42)\n",
    "rf = en.RandomForestClassifier(n_estimators = 100, n_jobs = -2, random_state = 42)\n",
    "et = en.ExtraTreesClassifier(n_estimators = 100, n_jobs = -2, random_state = 42)\n",
    "\n",
    "# models dict\n",
    "models = {\n",
    "    'score_knn': knn_model,\n",
    "    'score_lr': lr_model,\n",
    "    'score_rf': rf,\n",
    "    'score_et': et\n",
    "}\n",
    "\n",
    "# K-Fold number\n",
    "kfolds = 5\n",
    "kf = ms.KFold(n_splits = kfolds)\n",
    "\n",
    "# Precision & Recall at k (in percentage of dataset):\n",
    "k = 0.4\n",
    "\n",
    "# Store Precision and Recall at k for all models\n",
    "perf_metrics = []\n",
    "\n",
    "# loop through every ML model (i = keys = model name | model = model definition)\n",
    "for i, model in models.items(): \n",
    "    \n",
    "    performance = []\n",
    "\n",
    "    for train, test in kf.split(X, y): # returns an array of train and test indexes\n",
    "\n",
    "        # model training\n",
    "        model.fit(X.iloc[train], y.iloc[train])\n",
    "\n",
    "        # model prediction - Generalizing Power\n",
    "        yhat = model.predict_proba(X.iloc[test])\n",
    "\n",
    "        # test dataset\n",
    "        df_perf = X.iloc[test].copy()\n",
    "        df_perf['response'] = y.iloc[test].copy()\n",
    "\n",
    "        # propensity score\n",
    "        df_perf[i] = yhat[:,1].tolist() # get all propensity score values of response = 1 then converts to list\n",
    "\n",
    "        # compute Precision at k (Precision Top K) = ratio of True Positives within all Positives?\n",
    "        precision = precision_at_k(df_perf, i, k)\n",
    "\n",
    "        # compute Recall at k = ratio of True Positives within all instances of the dataset\n",
    "        recall = recall_at_k(df_perf, i, k)\n",
    "\n",
    "        # save performance metrics\n",
    "        performance.append([i, precision, recall, k])\n",
    "\n",
    "\n",
    "    # After cross-validation of ONE model, compute mean and std. Then store the results:\n",
    "\n",
    "    # convert performance metrics from ONE model to dataframe\n",
    "    rank = pd.DataFrame(performance, columns = ['model', 'precision', 'recall', 'k%'])\n",
    "    rank['k%'] = rank['k%'] * 100\n",
    "\n",
    "    # perf_metrics = [] # this should be outside models LOOP\n",
    "    precision_mean = round(rank['precision'].mean(), 4)\n",
    "    precision_std = round(rank['precision'].std(), 4)\n",
    "    recall_mean = round(rank['recall'].mean(), 4)\n",
    "    recall_std = round(rank['recall'].std(), 4)\n",
    "    perf_metrics.append([i, kfolds, k, precision_mean, precision_std, recall_mean, recall_std])\n",
    "\n",
    "\n",
    "# this should be outside models LOOP:\n",
    "perf_metrics_df = pd.DataFrame(perf_metrics, columns = ['model', 'k_folds', 'k', 'precision_at_k_mean', 'precision_at_k_std', 'recall_at_k_mean', 'recall_at_k_std'])\n",
    "perf_metrics_df"
   ]
  },
  {
   "cell_type": "code",
   "execution_count": 30,
   "id": "2f9e4690",
   "metadata": {},
   "outputs": [
    {
     "data": {
      "text/html": [
       "<div>\n",
       "<style scoped>\n",
       "    .dataframe tbody tr th:only-of-type {\n",
       "        vertical-align: middle;\n",
       "    }\n",
       "\n",
       "    .dataframe tbody tr th {\n",
       "        vertical-align: top;\n",
       "    }\n",
       "\n",
       "    .dataframe thead th {\n",
       "        text-align: right;\n",
       "    }\n",
       "</style>\n",
       "<table border=\"1\" class=\"dataframe\">\n",
       "  <thead>\n",
       "    <tr style=\"text-align: right;\">\n",
       "      <th></th>\n",
       "      <th>model</th>\n",
       "      <th>k_folds</th>\n",
       "      <th>k</th>\n",
       "      <th>precision_at_k_mean</th>\n",
       "      <th>precision_at_k_std</th>\n",
       "      <th>recall_at_k_mean</th>\n",
       "      <th>recall_at_k_std</th>\n",
       "    </tr>\n",
       "  </thead>\n",
       "  <tbody>\n",
       "    <tr>\n",
       "      <th>2</th>\n",
       "      <td>score_rf</td>\n",
       "      <td>5</td>\n",
       "      <td>0.4</td>\n",
       "      <td>0.2734</td>\n",
       "      <td>0.0039</td>\n",
       "      <td>0.8922</td>\n",
       "      <td>0.0036</td>\n",
       "    </tr>\n",
       "    <tr>\n",
       "      <th>3</th>\n",
       "      <td>score_et</td>\n",
       "      <td>5</td>\n",
       "      <td>0.4</td>\n",
       "      <td>0.2696</td>\n",
       "      <td>0.0034</td>\n",
       "      <td>0.8798</td>\n",
       "      <td>0.0030</td>\n",
       "    </tr>\n",
       "    <tr>\n",
       "      <th>1</th>\n",
       "      <td>score_lr</td>\n",
       "      <td>5</td>\n",
       "      <td>0.4</td>\n",
       "      <td>0.2666</td>\n",
       "      <td>0.0030</td>\n",
       "      <td>0.8702</td>\n",
       "      <td>0.0064</td>\n",
       "    </tr>\n",
       "    <tr>\n",
       "      <th>0</th>\n",
       "      <td>score_knn</td>\n",
       "      <td>5</td>\n",
       "      <td>0.4</td>\n",
       "      <td>0.2633</td>\n",
       "      <td>0.0040</td>\n",
       "      <td>0.8594</td>\n",
       "      <td>0.0027</td>\n",
       "    </tr>\n",
       "  </tbody>\n",
       "</table>\n",
       "</div>"
      ],
      "text/plain": [
       "       model  k_folds    k  precision_at_k_mean  precision_at_k_std  \\\n",
       "2   score_rf        5  0.4               0.2734              0.0039   \n",
       "3   score_et        5  0.4               0.2696              0.0034   \n",
       "1   score_lr        5  0.4               0.2666              0.0030   \n",
       "0  score_knn        5  0.4               0.2633              0.0040   \n",
       "\n",
       "   recall_at_k_mean  recall_at_k_std  \n",
       "2            0.8922           0.0036  \n",
       "3            0.8798           0.0030  \n",
       "1            0.8702           0.0064  \n",
       "0            0.8594           0.0027  "
      ]
     },
     "execution_count": 30,
     "metadata": {},
     "output_type": "execute_result"
    }
   ],
   "source": [
    "perf_metrics_df.sort_values('recall_at_k_mean', ascending = False)"
   ]
  },
  {
   "cell_type": "markdown",
   "id": "511da2a0",
   "metadata": {},
   "source": [
    " \n",
    "# 5. Saving Models\n"
   ]
  },
  {
   "cell_type": "code",
   "execution_count": 31,
   "id": "52edc6a9",
   "metadata": {},
   "outputs": [],
   "source": [
    "# I choose the Linear Regression model because it performed well and it is ligher than Random forest\n",
    "pickle.dump(lr_model, open('/home/rafael/Repos/cross_sell_prediction/model/Health_Insurance.pkl', 'wb'))"
   ]
  }
 ],
 "metadata": {
  "kernelspec": {
   "display_name": "CrossSellPrediction",
   "language": "python",
   "name": "crosssellprediction"
  },
  "language_info": {
   "codemirror_mode": {
    "name": "ipython",
    "version": 3
   },
   "file_extension": ".py",
   "mimetype": "text/x-python",
   "name": "python",
   "nbconvert_exporter": "python",
   "pygments_lexer": "ipython3",
   "version": "3.9.9"
  }
 },
 "nbformat": 4,
 "nbformat_minor": 5
}
