{
 "cells": [
  {
   "cell_type": "markdown",
   "id": "95cb926e",
   "metadata": {},
   "source": [
    "# 0. IMPORTS"
   ]
  },
  {
   "cell_type": "code",
   "execution_count": 1,
   "id": "c94c9d4f",
   "metadata": {},
   "outputs": [],
   "source": [
    "import os\n",
    "import warnings\n",
    "import numpy               as np\n",
    "import psycopg2            as pg\n",
    "import pandas              as pd\n",
    "import matplotlib.pyplot   as plt\n",
    "import seaborn             as sns\n",
    "\n",
    "import sweetviz            as sv\n",
    "import matplotlib.patches  as mpatches\n",
    "\n",
    "from sklearn               import model_selection as ms\n",
    "from dotenv                import load_dotenv\n",
    "from IPython.display       import HTML\n",
    "from IPython.display       import display"
   ]
  },
  {
   "cell_type": "markdown",
   "id": "09a47253",
   "metadata": {},
   "source": [
    "## 0.1. Helper Functions"
   ]
  },
  {
   "cell_type": "code",
   "execution_count": 2,
   "id": "4b64b6ed",
   "metadata": {},
   "outputs": [],
   "source": [
    "def jupyter_settings():\n",
    "    # Optimize general settings, standardize plot sizes, etc\n",
    "    %matplotlib inline\n",
    "    plt.style.use( 'bmh' )\n",
    "    plt.rcParams['figure.figsize'] = [12, 8]\n",
    "    plt.rcParams['font.size'] = 24\n",
    "    display( HTML( '<style>.container { width:100% !important; }</style>') )\n",
    "   # for pandas to display the complete dataframe, with no restriction on the number of columns to be displayed, I can change the following option:\n",
    "    pd.options.display.max_columns = None\n",
    "    pd.options.display.max_rows = None\n",
    "    pd.set_option( 'display.expand_frame_repr', False )\n",
    "    sns.set()\n",
    "    pd.set_option('display.max_columns', 30)\n",
    "    pd.set_option('display.max_rows', 30)\n",
    "\n",
    "    \n",
    "def psycopg_connect():\n",
    "    \"\"\" Database connection: Creates a psycopg connection from file .env \"\"\"\n",
    "    load_dotenv()\n",
    "    conn = pg.connect( user = os.environ['DBUSER'],\n",
    "                       password = os.environ['PASSWORD'],\n",
    "                       host = os.environ['HOST'],\n",
    "                       port = os.environ['PORT'],\n",
    "                       database = os.environ['DBNAME'])\n",
    "    \n",
    "    \"\"\" create a cursor object used to perform queries \"\"\"\n",
    "    cursor = conn.cursor()\n",
    "    \n",
    "    return conn, cursor"
   ]
  },
  {
   "cell_type": "code",
   "execution_count": 3,
   "id": "db6abc8c",
   "metadata": {},
   "outputs": [
    {
     "data": {
      "text/html": [
       "<style>.container { width:100% !important; }</style>"
      ],
      "text/plain": [
       "<IPython.core.display.HTML object>"
      ]
     },
     "metadata": {},
     "output_type": "display_data"
    }
   ],
   "source": [
    "jupyter_settings()\n",
    "warnings.filterwarnings(\"ignore\")"
   ]
  },
  {
   "cell_type": "markdown",
   "id": "2dc2755a",
   "metadata": {},
   "source": [
    "# 1.0. DATA COLLECTION"
   ]
  },
  {
   "cell_type": "markdown",
   "id": "40a2fa92",
   "metadata": {},
   "source": [
    "## 1.1. Schema "
   ]
  },
  {
   "cell_type": "code",
   "execution_count": 4,
   "id": "fae57aa9",
   "metadata": {},
   "outputs": [
    {
     "name": "stdout",
     "output_type": "stream",
     "text": [
      "[('pg_toast',), ('pg_temp_1',), ('pg_toast_temp_1',), ('pg_catalog',), ('information_schema',), ('public',), ('pa004',), ('pg_temp_4',), ('pg_toast_temp_4',), ('pa005',), ('pg_temp_9',), ('pg_toast_temp_9',)]\n"
     ]
    }
   ],
   "source": [
    "conn, cursor = psycopg_connect()\n",
    "\n",
    "query_schema = \"\"\"\n",
    "    SELECT nspname\n",
    "    FROM pg_catalog.pg_namespace\n",
    "\"\"\"\n",
    "\n",
    "cursor.execute(query_schema)\n",
    "\n",
    "record = cursor.fetchall()\n",
    "print(record)\n",
    "cursor.close()\n",
    "conn.close()"
   ]
  },
  {
   "cell_type": "markdown",
   "id": "79e0dda8",
   "metadata": {},
   "source": [
    "## 1.2. Selecting Tables from Schema"
   ]
  },
  {
   "cell_type": "code",
   "execution_count": 5,
   "id": "fcb418a8",
   "metadata": {},
   "outputs": [
    {
     "name": "stdout",
     "output_type": "stream",
     "text": [
      "[('users',), ('vehicle',), ('insurance',)]\n"
     ]
    }
   ],
   "source": [
    "conn, cursor = psycopg_connect()\n",
    "\n",
    "query_tables = \"\"\"\n",
    "    SELECT tablename\n",
    "    FROM pg_catalog.pg_tables\n",
    "    WHERE schemaname = 'pa004'\n",
    "\"\"\"\n",
    "\n",
    "cursor.execute(query_tables)\n",
    "\n",
    "record = cursor.fetchall()\n",
    "print(record)\n",
    "cursor.close()\n",
    "conn.close()"
   ]
  },
  {
   "cell_type": "markdown",
   "id": "7dec385d",
   "metadata": {},
   "source": [
    "## 1.3. Table Users "
   ]
  },
  {
   "cell_type": "code",
   "execution_count": 6,
   "id": "228ca827",
   "metadata": {},
   "outputs": [
    {
     "data": {
      "text/html": [
       "<div>\n",
       "<style scoped>\n",
       "    .dataframe tbody tr th:only-of-type {\n",
       "        vertical-align: middle;\n",
       "    }\n",
       "\n",
       "    .dataframe tbody tr th {\n",
       "        vertical-align: top;\n",
       "    }\n",
       "\n",
       "    .dataframe thead th {\n",
       "        text-align: right;\n",
       "    }\n",
       "</style>\n",
       "<table border=\"1\" class=\"dataframe\">\n",
       "  <thead>\n",
       "    <tr style=\"text-align: right;\">\n",
       "      <th></th>\n",
       "      <th>id</th>\n",
       "      <th>gender</th>\n",
       "      <th>age</th>\n",
       "      <th>region_code</th>\n",
       "      <th>policy_sales_channel</th>\n",
       "    </tr>\n",
       "  </thead>\n",
       "  <tbody>\n",
       "    <tr>\n",
       "      <th>0</th>\n",
       "      <td>1</td>\n",
       "      <td>Male</td>\n",
       "      <td>44</td>\n",
       "      <td>28.0</td>\n",
       "      <td>26.0</td>\n",
       "    </tr>\n",
       "    <tr>\n",
       "      <th>1</th>\n",
       "      <td>2</td>\n",
       "      <td>Male</td>\n",
       "      <td>76</td>\n",
       "      <td>3.0</td>\n",
       "      <td>26.0</td>\n",
       "    </tr>\n",
       "    <tr>\n",
       "      <th>2</th>\n",
       "      <td>3</td>\n",
       "      <td>Male</td>\n",
       "      <td>47</td>\n",
       "      <td>28.0</td>\n",
       "      <td>26.0</td>\n",
       "    </tr>\n",
       "    <tr>\n",
       "      <th>3</th>\n",
       "      <td>4</td>\n",
       "      <td>Male</td>\n",
       "      <td>21</td>\n",
       "      <td>11.0</td>\n",
       "      <td>152.0</td>\n",
       "    </tr>\n",
       "    <tr>\n",
       "      <th>4</th>\n",
       "      <td>5</td>\n",
       "      <td>Female</td>\n",
       "      <td>29</td>\n",
       "      <td>41.0</td>\n",
       "      <td>152.0</td>\n",
       "    </tr>\n",
       "    <tr>\n",
       "      <th>5</th>\n",
       "      <td>6</td>\n",
       "      <td>Female</td>\n",
       "      <td>24</td>\n",
       "      <td>33.0</td>\n",
       "      <td>160.0</td>\n",
       "    </tr>\n",
       "    <tr>\n",
       "      <th>6</th>\n",
       "      <td>7</td>\n",
       "      <td>Male</td>\n",
       "      <td>23</td>\n",
       "      <td>11.0</td>\n",
       "      <td>152.0</td>\n",
       "    </tr>\n",
       "    <tr>\n",
       "      <th>7</th>\n",
       "      <td>8</td>\n",
       "      <td>Female</td>\n",
       "      <td>56</td>\n",
       "      <td>28.0</td>\n",
       "      <td>26.0</td>\n",
       "    </tr>\n",
       "    <tr>\n",
       "      <th>8</th>\n",
       "      <td>9</td>\n",
       "      <td>Female</td>\n",
       "      <td>24</td>\n",
       "      <td>3.0</td>\n",
       "      <td>152.0</td>\n",
       "    </tr>\n",
       "    <tr>\n",
       "      <th>9</th>\n",
       "      <td>10</td>\n",
       "      <td>Female</td>\n",
       "      <td>32</td>\n",
       "      <td>6.0</td>\n",
       "      <td>152.0</td>\n",
       "    </tr>\n",
       "  </tbody>\n",
       "</table>\n",
       "</div>"
      ],
      "text/plain": [
       "   id  gender  age  region_code  policy_sales_channel\n",
       "0   1    Male   44         28.0                  26.0\n",
       "1   2    Male   76          3.0                  26.0\n",
       "2   3    Male   47         28.0                  26.0\n",
       "3   4    Male   21         11.0                 152.0\n",
       "4   5  Female   29         41.0                 152.0\n",
       "5   6  Female   24         33.0                 160.0\n",
       "6   7    Male   23         11.0                 152.0\n",
       "7   8  Female   56         28.0                  26.0\n",
       "8   9  Female   24          3.0                 152.0\n",
       "9  10  Female   32          6.0                 152.0"
      ]
     },
     "metadata": {},
     "output_type": "display_data"
    }
   ],
   "source": [
    "conn, cursor = psycopg_connect()\n",
    "\n",
    "query_table_users = \"\"\"\n",
    "    SELECT *\n",
    "    FROM pa004.users u\n",
    "    LIMIT 10\n",
    "\"\"\"\n",
    "\n",
    "cursor.execute(query_table_users)\n",
    "\n",
    "display( pd.read_sql( query_table_users, conn))\n",
    "\n",
    "cursor.close()\n",
    "conn.close()"
   ]
  },
  {
   "cell_type": "markdown",
   "id": "81e5f737",
   "metadata": {},
   "source": [
    "## 1.4. Raw Dataset"
   ]
  },
  {
   "cell_type": "code",
   "execution_count": 7,
   "id": "59df6a60",
   "metadata": {},
   "outputs": [
    {
     "data": {
      "text/html": [
       "<div>\n",
       "<style scoped>\n",
       "    .dataframe tbody tr th:only-of-type {\n",
       "        vertical-align: middle;\n",
       "    }\n",
       "\n",
       "    .dataframe tbody tr th {\n",
       "        vertical-align: top;\n",
       "    }\n",
       "\n",
       "    .dataframe thead th {\n",
       "        text-align: right;\n",
       "    }\n",
       "</style>\n",
       "<table border=\"1\" class=\"dataframe\">\n",
       "  <thead>\n",
       "    <tr style=\"text-align: right;\">\n",
       "      <th></th>\n",
       "      <th>id</th>\n",
       "      <th>gender</th>\n",
       "      <th>age</th>\n",
       "      <th>region_code</th>\n",
       "      <th>policy_sales_channel</th>\n",
       "      <th>id</th>\n",
       "      <th>driving_license</th>\n",
       "      <th>vehicle_age</th>\n",
       "      <th>vehicle_damage</th>\n",
       "      <th>id</th>\n",
       "      <th>previously_insured</th>\n",
       "      <th>annual_premium</th>\n",
       "      <th>vintage</th>\n",
       "      <th>response</th>\n",
       "    </tr>\n",
       "  </thead>\n",
       "  <tbody>\n",
       "    <tr>\n",
       "      <th>0</th>\n",
       "      <td>7</td>\n",
       "      <td>Male</td>\n",
       "      <td>23</td>\n",
       "      <td>11.0</td>\n",
       "      <td>152.0</td>\n",
       "      <td>7</td>\n",
       "      <td>1</td>\n",
       "      <td>&lt; 1 Year</td>\n",
       "      <td>Yes</td>\n",
       "      <td>7</td>\n",
       "      <td>0</td>\n",
       "      <td>23367.0</td>\n",
       "      <td>249</td>\n",
       "      <td>0</td>\n",
       "    </tr>\n",
       "    <tr>\n",
       "      <th>1</th>\n",
       "      <td>13</td>\n",
       "      <td>Female</td>\n",
       "      <td>41</td>\n",
       "      <td>15.0</td>\n",
       "      <td>14.0</td>\n",
       "      <td>13</td>\n",
       "      <td>1</td>\n",
       "      <td>1-2 Year</td>\n",
       "      <td>No</td>\n",
       "      <td>13</td>\n",
       "      <td>1</td>\n",
       "      <td>31409.0</td>\n",
       "      <td>221</td>\n",
       "      <td>0</td>\n",
       "    </tr>\n",
       "    <tr>\n",
       "      <th>2</th>\n",
       "      <td>18</td>\n",
       "      <td>Female</td>\n",
       "      <td>25</td>\n",
       "      <td>35.0</td>\n",
       "      <td>152.0</td>\n",
       "      <td>18</td>\n",
       "      <td>1</td>\n",
       "      <td>&lt; 1 Year</td>\n",
       "      <td>No</td>\n",
       "      <td>18</td>\n",
       "      <td>1</td>\n",
       "      <td>46622.0</td>\n",
       "      <td>299</td>\n",
       "      <td>0</td>\n",
       "    </tr>\n",
       "    <tr>\n",
       "      <th>3</th>\n",
       "      <td>31</td>\n",
       "      <td>Female</td>\n",
       "      <td>26</td>\n",
       "      <td>8.0</td>\n",
       "      <td>160.0</td>\n",
       "      <td>31</td>\n",
       "      <td>1</td>\n",
       "      <td>&lt; 1 Year</td>\n",
       "      <td>No</td>\n",
       "      <td>31</td>\n",
       "      <td>0</td>\n",
       "      <td>2630.0</td>\n",
       "      <td>136</td>\n",
       "      <td>0</td>\n",
       "    </tr>\n",
       "    <tr>\n",
       "      <th>4</th>\n",
       "      <td>39</td>\n",
       "      <td>Male</td>\n",
       "      <td>45</td>\n",
       "      <td>8.0</td>\n",
       "      <td>124.0</td>\n",
       "      <td>39</td>\n",
       "      <td>1</td>\n",
       "      <td>1-2 Year</td>\n",
       "      <td>Yes</td>\n",
       "      <td>39</td>\n",
       "      <td>0</td>\n",
       "      <td>42297.0</td>\n",
       "      <td>264</td>\n",
       "      <td>0</td>\n",
       "    </tr>\n",
       "    <tr>\n",
       "      <th>5</th>\n",
       "      <td>55</td>\n",
       "      <td>Female</td>\n",
       "      <td>44</td>\n",
       "      <td>28.0</td>\n",
       "      <td>13.0</td>\n",
       "      <td>55</td>\n",
       "      <td>1</td>\n",
       "      <td>1-2 Year</td>\n",
       "      <td>Yes</td>\n",
       "      <td>55</td>\n",
       "      <td>0</td>\n",
       "      <td>45415.0</td>\n",
       "      <td>73</td>\n",
       "      <td>0</td>\n",
       "    </tr>\n",
       "    <tr>\n",
       "      <th>6</th>\n",
       "      <td>73</td>\n",
       "      <td>Female</td>\n",
       "      <td>23</td>\n",
       "      <td>39.0</td>\n",
       "      <td>152.0</td>\n",
       "      <td>73</td>\n",
       "      <td>1</td>\n",
       "      <td>&lt; 1 Year</td>\n",
       "      <td>No</td>\n",
       "      <td>73</td>\n",
       "      <td>1</td>\n",
       "      <td>40372.0</td>\n",
       "      <td>242</td>\n",
       "      <td>0</td>\n",
       "    </tr>\n",
       "    <tr>\n",
       "      <th>7</th>\n",
       "      <td>79</td>\n",
       "      <td>Male</td>\n",
       "      <td>29</td>\n",
       "      <td>28.0</td>\n",
       "      <td>26.0</td>\n",
       "      <td>79</td>\n",
       "      <td>1</td>\n",
       "      <td>1-2 Year</td>\n",
       "      <td>Yes</td>\n",
       "      <td>79</td>\n",
       "      <td>0</td>\n",
       "      <td>42567.0</td>\n",
       "      <td>167</td>\n",
       "      <td>1</td>\n",
       "    </tr>\n",
       "    <tr>\n",
       "      <th>8</th>\n",
       "      <td>95</td>\n",
       "      <td>Female</td>\n",
       "      <td>23</td>\n",
       "      <td>15.0</td>\n",
       "      <td>152.0</td>\n",
       "      <td>95</td>\n",
       "      <td>1</td>\n",
       "      <td>&lt; 1 Year</td>\n",
       "      <td>Yes</td>\n",
       "      <td>95</td>\n",
       "      <td>0</td>\n",
       "      <td>41641.0</td>\n",
       "      <td>209</td>\n",
       "      <td>0</td>\n",
       "    </tr>\n",
       "    <tr>\n",
       "      <th>9</th>\n",
       "      <td>108</td>\n",
       "      <td>Male</td>\n",
       "      <td>31</td>\n",
       "      <td>29.0</td>\n",
       "      <td>124.0</td>\n",
       "      <td>108</td>\n",
       "      <td>1</td>\n",
       "      <td>1-2 Year</td>\n",
       "      <td>Yes</td>\n",
       "      <td>108</td>\n",
       "      <td>0</td>\n",
       "      <td>28867.0</td>\n",
       "      <td>247</td>\n",
       "      <td>0</td>\n",
       "    </tr>\n",
       "  </tbody>\n",
       "</table>\n",
       "</div>"
      ],
      "text/plain": [
       "    id  gender  age  region_code  policy_sales_channel   id  driving_license vehicle_age vehicle_damage   id  previously_insured  annual_premium  vintage  response\n",
       "0    7    Male   23         11.0                 152.0    7                1    < 1 Year            Yes    7                   0         23367.0      249         0\n",
       "1   13  Female   41         15.0                  14.0   13                1    1-2 Year             No   13                   1         31409.0      221         0\n",
       "2   18  Female   25         35.0                 152.0   18                1    < 1 Year             No   18                   1         46622.0      299         0\n",
       "3   31  Female   26          8.0                 160.0   31                1    < 1 Year             No   31                   0          2630.0      136         0\n",
       "4   39    Male   45          8.0                 124.0   39                1    1-2 Year            Yes   39                   0         42297.0      264         0\n",
       "5   55  Female   44         28.0                  13.0   55                1    1-2 Year            Yes   55                   0         45415.0       73         0\n",
       "6   73  Female   23         39.0                 152.0   73                1    < 1 Year             No   73                   1         40372.0      242         0\n",
       "7   79    Male   29         28.0                  26.0   79                1    1-2 Year            Yes   79                   0         42567.0      167         1\n",
       "8   95  Female   23         15.0                 152.0   95                1    < 1 Year            Yes   95                   0         41641.0      209         0\n",
       "9  108    Male   31         29.0                 124.0  108                1    1-2 Year            Yes  108                   0         28867.0      247         0"
      ]
     },
     "metadata": {},
     "output_type": "display_data"
    }
   ],
   "source": [
    "conn, cursor = psycopg_connect()\n",
    "\n",
    "query_table_users = \"\"\"\n",
    "    SELECT *\n",
    "    FROM pa004.users u\n",
    "    LEFT JOIN pa004.vehicle  v ON v.id = u.id\n",
    "    LEFT JOIN pa004.insurance i ON i.id = u.id\n",
    "\"\"\"\n",
    "\n",
    "cursor.execute(query_table_users)\n",
    "\n",
    "df_raw = pd.read_sql( query_table_users, conn)\n",
    "display(df_raw.head(10))\n",
    "\n",
    "cursor.close()\n",
    "conn.close()"
   ]
  },
  {
   "cell_type": "code",
   "execution_count": 8,
   "id": "9b1e72e7",
   "metadata": {},
   "outputs": [],
   "source": [
    "df_raw.to_csv('/home/rafael/Repos/cross_sell_prediction/data/data_collection_done.csv')"
   ]
  },
  {
   "cell_type": "markdown",
   "id": "43325032",
   "metadata": {},
   "source": [
    "# 2.0. DATA DESCRIPTION"
   ]
  },
  {
   "cell_type": "code",
   "execution_count": 9,
   "id": "2a45f45e",
   "metadata": {},
   "outputs": [
    {
     "data": {
      "text/plain": [
       "Index(['id', 'gender', 'age', 'region_code', 'policy_sales_channel', 'id.1',\n",
       "       'driving_license', 'vehicle_age', 'vehicle_damage', 'id.2',\n",
       "       'previously_insured', 'annual_premium', 'vintage', 'response'],\n",
       "      dtype='object')"
      ]
     },
     "execution_count": 9,
     "metadata": {},
     "output_type": "execute_result"
    }
   ],
   "source": [
    "df2 = pd.read_csv('/home/rafael/Repos/cross_sell_prediction/data/data_collection_done.csv', index_col=0)\n",
    "df2.columns"
   ]
  },
  {
   "cell_type": "markdown",
   "id": "4352543f",
   "metadata": {},
   "source": [
    "## 2.1. Dropping Columns "
   ]
  },
  {
   "cell_type": "code",
   "execution_count": 10,
   "id": "f1687c29",
   "metadata": {},
   "outputs": [
    {
     "data": {
      "text/html": [
       "<div>\n",
       "<style scoped>\n",
       "    .dataframe tbody tr th:only-of-type {\n",
       "        vertical-align: middle;\n",
       "    }\n",
       "\n",
       "    .dataframe tbody tr th {\n",
       "        vertical-align: top;\n",
       "    }\n",
       "\n",
       "    .dataframe thead th {\n",
       "        text-align: right;\n",
       "    }\n",
       "</style>\n",
       "<table border=\"1\" class=\"dataframe\">\n",
       "  <thead>\n",
       "    <tr style=\"text-align: right;\">\n",
       "      <th></th>\n",
       "      <th>id</th>\n",
       "      <th>gender</th>\n",
       "      <th>age</th>\n",
       "      <th>region_code</th>\n",
       "      <th>policy_sales_channel</th>\n",
       "      <th>driving_license</th>\n",
       "      <th>vehicle_age</th>\n",
       "      <th>vehicle_damage</th>\n",
       "      <th>previously_insured</th>\n",
       "      <th>annual_premium</th>\n",
       "      <th>vintage</th>\n",
       "      <th>response</th>\n",
       "    </tr>\n",
       "  </thead>\n",
       "  <tbody>\n",
       "    <tr>\n",
       "      <th>0</th>\n",
       "      <td>7</td>\n",
       "      <td>Male</td>\n",
       "      <td>23</td>\n",
       "      <td>11.0</td>\n",
       "      <td>152.0</td>\n",
       "      <td>1</td>\n",
       "      <td>&lt; 1 Year</td>\n",
       "      <td>Yes</td>\n",
       "      <td>0</td>\n",
       "      <td>23367.0</td>\n",
       "      <td>249</td>\n",
       "      <td>0</td>\n",
       "    </tr>\n",
       "    <tr>\n",
       "      <th>1</th>\n",
       "      <td>13</td>\n",
       "      <td>Female</td>\n",
       "      <td>41</td>\n",
       "      <td>15.0</td>\n",
       "      <td>14.0</td>\n",
       "      <td>1</td>\n",
       "      <td>1-2 Year</td>\n",
       "      <td>No</td>\n",
       "      <td>1</td>\n",
       "      <td>31409.0</td>\n",
       "      <td>221</td>\n",
       "      <td>0</td>\n",
       "    </tr>\n",
       "    <tr>\n",
       "      <th>2</th>\n",
       "      <td>18</td>\n",
       "      <td>Female</td>\n",
       "      <td>25</td>\n",
       "      <td>35.0</td>\n",
       "      <td>152.0</td>\n",
       "      <td>1</td>\n",
       "      <td>&lt; 1 Year</td>\n",
       "      <td>No</td>\n",
       "      <td>1</td>\n",
       "      <td>46622.0</td>\n",
       "      <td>299</td>\n",
       "      <td>0</td>\n",
       "    </tr>\n",
       "    <tr>\n",
       "      <th>3</th>\n",
       "      <td>31</td>\n",
       "      <td>Female</td>\n",
       "      <td>26</td>\n",
       "      <td>8.0</td>\n",
       "      <td>160.0</td>\n",
       "      <td>1</td>\n",
       "      <td>&lt; 1 Year</td>\n",
       "      <td>No</td>\n",
       "      <td>0</td>\n",
       "      <td>2630.0</td>\n",
       "      <td>136</td>\n",
       "      <td>0</td>\n",
       "    </tr>\n",
       "    <tr>\n",
       "      <th>4</th>\n",
       "      <td>39</td>\n",
       "      <td>Male</td>\n",
       "      <td>45</td>\n",
       "      <td>8.0</td>\n",
       "      <td>124.0</td>\n",
       "      <td>1</td>\n",
       "      <td>1-2 Year</td>\n",
       "      <td>Yes</td>\n",
       "      <td>0</td>\n",
       "      <td>42297.0</td>\n",
       "      <td>264</td>\n",
       "      <td>0</td>\n",
       "    </tr>\n",
       "  </tbody>\n",
       "</table>\n",
       "</div>"
      ],
      "text/plain": [
       "   id  gender  age  region_code  policy_sales_channel  driving_license vehicle_age vehicle_damage  previously_insured  annual_premium  vintage  response\n",
       "0   7    Male   23         11.0                 152.0                1    < 1 Year            Yes                   0         23367.0      249         0\n",
       "1  13  Female   41         15.0                  14.0                1    1-2 Year             No                   1         31409.0      221         0\n",
       "2  18  Female   25         35.0                 152.0                1    < 1 Year             No                   1         46622.0      299         0\n",
       "3  31  Female   26          8.0                 160.0                1    < 1 Year             No                   0          2630.0      136         0\n",
       "4  39    Male   45          8.0                 124.0                1    1-2 Year            Yes                   0         42297.0      264         0"
      ]
     },
     "execution_count": 10,
     "metadata": {},
     "output_type": "execute_result"
    }
   ],
   "source": [
    "# Dropping Columns \"ID\" \n",
    "df2 = df2.drop( df2.columns [[5,9]], axis =1 )\n",
    "df2.head()"
   ]
  },
  {
   "cell_type": "markdown",
   "id": "5ccbeba7",
   "metadata": {},
   "source": [
    "## 2.2. Data Dimensions\n"
   ]
  },
  {
   "cell_type": "code",
   "execution_count": 11,
   "id": "77c71c25",
   "metadata": {},
   "outputs": [
    {
     "name": "stdout",
     "output_type": "stream",
     "text": [
      "Number of rows: 381109\n",
      "Number of columns: 12\n"
     ]
    }
   ],
   "source": [
    "print('Number of rows: {}'. format(df2.shape[0]))\n",
    "print('Number of columns: {}'.format(df2.shape[1]))"
   ]
  },
  {
   "cell_type": "markdown",
   "id": "79599b39",
   "metadata": {},
   "source": [
    "## 2.3. Data Types"
   ]
  },
  {
   "cell_type": "code",
   "execution_count": 12,
   "id": "5631b60c",
   "metadata": {},
   "outputs": [
    {
     "data": {
      "text/plain": [
       "id                        int64\n",
       "gender                   object\n",
       "age                       int64\n",
       "region_code             float64\n",
       "policy_sales_channel    float64\n",
       "driving_license           int64\n",
       "vehicle_age              object\n",
       "vehicle_damage           object\n",
       "previously_insured        int64\n",
       "annual_premium          float64\n",
       "vintage                   int64\n",
       "response                  int64\n",
       "dtype: object"
      ]
     },
     "execution_count": 12,
     "metadata": {},
     "output_type": "execute_result"
    }
   ],
   "source": [
    "df2.dtypes"
   ]
  },
  {
   "cell_type": "markdown",
   "id": "56b1eb4c",
   "metadata": {},
   "source": [
    "## 2.4. Check NA"
   ]
  },
  {
   "cell_type": "code",
   "execution_count": 13,
   "id": "98b4216f",
   "metadata": {},
   "outputs": [
    {
     "data": {
      "text/plain": [
       "id                      0\n",
       "gender                  0\n",
       "age                     0\n",
       "region_code             0\n",
       "policy_sales_channel    0\n",
       "driving_license         0\n",
       "vehicle_age             0\n",
       "vehicle_damage          0\n",
       "previously_insured      0\n",
       "annual_premium          0\n",
       "vintage                 0\n",
       "response                0\n",
       "dtype: int64"
      ]
     },
     "execution_count": 13,
     "metadata": {},
     "output_type": "execute_result"
    }
   ],
   "source": [
    "df2.isna().sum()"
   ]
  },
  {
   "cell_type": "markdown",
   "id": "4372523b",
   "metadata": {},
   "source": [
    "## 2.5 Descriptive Statistical Analysis\n",
    "\n",
    "Descriptive statistics summarizes or describes the characteristics of a data set. "
   ]
  },
  {
   "cell_type": "code",
   "execution_count": 14,
   "id": "cfcdecd7",
   "metadata": {},
   "outputs": [
    {
     "data": {
      "text/html": [
       "<div>\n",
       "<style scoped>\n",
       "    .dataframe tbody tr th:only-of-type {\n",
       "        vertical-align: middle;\n",
       "    }\n",
       "\n",
       "    .dataframe tbody tr th {\n",
       "        vertical-align: top;\n",
       "    }\n",
       "\n",
       "    .dataframe thead th {\n",
       "        text-align: right;\n",
       "    }\n",
       "</style>\n",
       "<table border=\"1\" class=\"dataframe\">\n",
       "  <thead>\n",
       "    <tr style=\"text-align: right;\">\n",
       "      <th></th>\n",
       "      <th>id</th>\n",
       "      <th>age</th>\n",
       "      <th>region_code</th>\n",
       "      <th>policy_sales_channel</th>\n",
       "      <th>driving_license</th>\n",
       "      <th>previously_insured</th>\n",
       "      <th>annual_premium</th>\n",
       "      <th>vintage</th>\n",
       "      <th>response</th>\n",
       "    </tr>\n",
       "  </thead>\n",
       "  <tbody>\n",
       "    <tr>\n",
       "      <th>43863</th>\n",
       "      <td>350223</td>\n",
       "      <td>28</td>\n",
       "      <td>28.0</td>\n",
       "      <td>26.0</td>\n",
       "      <td>1</td>\n",
       "      <td>0</td>\n",
       "      <td>29454.0</td>\n",
       "      <td>115</td>\n",
       "      <td>1</td>\n",
       "    </tr>\n",
       "    <tr>\n",
       "      <th>337328</th>\n",
       "      <td>29511</td>\n",
       "      <td>55</td>\n",
       "      <td>9.0</td>\n",
       "      <td>26.0</td>\n",
       "      <td>1</td>\n",
       "      <td>0</td>\n",
       "      <td>38221.0</td>\n",
       "      <td>62</td>\n",
       "      <td>0</td>\n",
       "    </tr>\n",
       "  </tbody>\n",
       "</table>\n",
       "</div>"
      ],
      "text/plain": [
       "            id  age  region_code  policy_sales_channel  driving_license  previously_insured  annual_premium  vintage  response\n",
       "43863   350223   28         28.0                  26.0                1                   0         29454.0      115         1\n",
       "337328   29511   55          9.0                  26.0                1                   0         38221.0       62         0"
      ]
     },
     "execution_count": 14,
     "metadata": {},
     "output_type": "execute_result"
    }
   ],
   "source": [
    "num_attributes = df2.select_dtypes( include = ('int64','float64'))\n",
    "cat_attributes = df2.select_dtypes( exclude = ('int64','float64','datetime64[ns]'))\n",
    "num_attributes.sample(2)"
   ]
  },
  {
   "cell_type": "markdown",
   "id": "c7ca2ecd",
   "metadata": {},
   "source": [
    "### 2.5.1. Numerical Attributes"
   ]
  },
  {
   "cell_type": "code",
   "execution_count": 15,
   "id": "74679fb7",
   "metadata": {},
   "outputs": [],
   "source": [
    "# central tendency - mean, median\n",
    "ct1 = pd.DataFrame( num_attributes.apply( np.mean )).T\n",
    "ct2 = pd.DataFrame( num_attributes.apply( np.median )).T\n",
    "\n",
    "# dispersion - std, min, max, range, skew, kurtosis\n",
    "d1 = pd.DataFrame( num_attributes.apply( np.std )).T\n",
    "d2 = pd.DataFrame( num_attributes.apply( min )).T\n",
    "d3 = pd.DataFrame( num_attributes.apply( max )).T\n",
    "d4 = pd.DataFrame( num_attributes.apply( lambda x: x.max() - x.min() )).T\n",
    "d5 = pd.DataFrame( num_attributes.apply( lambda x: x.skew() )).T\n",
    "d6 = pd.DataFrame( num_attributes.apply( lambda x: x.kurtosis() )).T\n",
    "\n",
    "# concatenate\n",
    "n = pd.concat( [d2, d3, d4, ct1, ct2, d1, d5, d6] ).T.reset_index()\n",
    "n.columns = ( ['attributes', 'min', 'max', 'range', 'mean', 'median', 'std', 'skew', 'kurtosis'])"
   ]
  },
  {
   "cell_type": "code",
   "execution_count": 16,
   "id": "444b6f75",
   "metadata": {},
   "outputs": [
    {
     "data": {
      "text/html": [
       "<div>\n",
       "<style scoped>\n",
       "    .dataframe tbody tr th:only-of-type {\n",
       "        vertical-align: middle;\n",
       "    }\n",
       "\n",
       "    .dataframe tbody tr th {\n",
       "        vertical-align: top;\n",
       "    }\n",
       "\n",
       "    .dataframe thead th {\n",
       "        text-align: right;\n",
       "    }\n",
       "</style>\n",
       "<table border=\"1\" class=\"dataframe\">\n",
       "  <thead>\n",
       "    <tr style=\"text-align: right;\">\n",
       "      <th></th>\n",
       "      <th>attributes</th>\n",
       "      <th>min</th>\n",
       "      <th>max</th>\n",
       "      <th>range</th>\n",
       "      <th>mean</th>\n",
       "      <th>median</th>\n",
       "      <th>std</th>\n",
       "      <th>skew</th>\n",
       "      <th>kurtosis</th>\n",
       "    </tr>\n",
       "  </thead>\n",
       "  <tbody>\n",
       "    <tr>\n",
       "      <th>0</th>\n",
       "      <td>id</td>\n",
       "      <td>1.0</td>\n",
       "      <td>381109.0</td>\n",
       "      <td>381108.0</td>\n",
       "      <td>190555.000000</td>\n",
       "      <td>190555.0</td>\n",
       "      <td>110016.691870</td>\n",
       "      <td>-8.071174e-18</td>\n",
       "      <td>-1.200000</td>\n",
       "    </tr>\n",
       "    <tr>\n",
       "      <th>1</th>\n",
       "      <td>age</td>\n",
       "      <td>20.0</td>\n",
       "      <td>85.0</td>\n",
       "      <td>65.0</td>\n",
       "      <td>38.822584</td>\n",
       "      <td>36.0</td>\n",
       "      <td>15.511591</td>\n",
       "      <td>6.725390e-01</td>\n",
       "      <td>-0.565655</td>\n",
       "    </tr>\n",
       "    <tr>\n",
       "      <th>2</th>\n",
       "      <td>region_code</td>\n",
       "      <td>0.0</td>\n",
       "      <td>52.0</td>\n",
       "      <td>52.0</td>\n",
       "      <td>26.388807</td>\n",
       "      <td>28.0</td>\n",
       "      <td>13.229871</td>\n",
       "      <td>-1.152664e-01</td>\n",
       "      <td>-0.867857</td>\n",
       "    </tr>\n",
       "    <tr>\n",
       "      <th>3</th>\n",
       "      <td>policy_sales_channel</td>\n",
       "      <td>1.0</td>\n",
       "      <td>163.0</td>\n",
       "      <td>162.0</td>\n",
       "      <td>112.034295</td>\n",
       "      <td>133.0</td>\n",
       "      <td>54.203924</td>\n",
       "      <td>-9.000081e-01</td>\n",
       "      <td>-0.970810</td>\n",
       "    </tr>\n",
       "    <tr>\n",
       "      <th>4</th>\n",
       "      <td>driving_license</td>\n",
       "      <td>0.0</td>\n",
       "      <td>1.0</td>\n",
       "      <td>1.0</td>\n",
       "      <td>0.997869</td>\n",
       "      <td>1.0</td>\n",
       "      <td>0.046109</td>\n",
       "      <td>-2.159518e+01</td>\n",
       "      <td>464.354302</td>\n",
       "    </tr>\n",
       "    <tr>\n",
       "      <th>5</th>\n",
       "      <td>previously_insured</td>\n",
       "      <td>0.0</td>\n",
       "      <td>1.0</td>\n",
       "      <td>1.0</td>\n",
       "      <td>0.458210</td>\n",
       "      <td>0.0</td>\n",
       "      <td>0.498251</td>\n",
       "      <td>1.677471e-01</td>\n",
       "      <td>-1.971871</td>\n",
       "    </tr>\n",
       "    <tr>\n",
       "      <th>6</th>\n",
       "      <td>annual_premium</td>\n",
       "      <td>2630.0</td>\n",
       "      <td>540165.0</td>\n",
       "      <td>537535.0</td>\n",
       "      <td>30564.389581</td>\n",
       "      <td>31669.0</td>\n",
       "      <td>17213.132474</td>\n",
       "      <td>1.766087e+00</td>\n",
       "      <td>34.004569</td>\n",
       "    </tr>\n",
       "    <tr>\n",
       "      <th>7</th>\n",
       "      <td>vintage</td>\n",
       "      <td>10.0</td>\n",
       "      <td>299.0</td>\n",
       "      <td>289.0</td>\n",
       "      <td>154.347397</td>\n",
       "      <td>154.0</td>\n",
       "      <td>83.671194</td>\n",
       "      <td>3.029517e-03</td>\n",
       "      <td>-1.200688</td>\n",
       "    </tr>\n",
       "    <tr>\n",
       "      <th>8</th>\n",
       "      <td>response</td>\n",
       "      <td>0.0</td>\n",
       "      <td>1.0</td>\n",
       "      <td>1.0</td>\n",
       "      <td>0.122563</td>\n",
       "      <td>0.0</td>\n",
       "      <td>0.327935</td>\n",
       "      <td>2.301906e+00</td>\n",
       "      <td>3.298788</td>\n",
       "    </tr>\n",
       "  </tbody>\n",
       "</table>\n",
       "</div>"
      ],
      "text/plain": [
       "             attributes     min       max     range           mean    median            std          skew    kurtosis\n",
       "0                    id     1.0  381109.0  381108.0  190555.000000  190555.0  110016.691870 -8.071174e-18   -1.200000\n",
       "1                   age    20.0      85.0      65.0      38.822584      36.0      15.511591  6.725390e-01   -0.565655\n",
       "2           region_code     0.0      52.0      52.0      26.388807      28.0      13.229871 -1.152664e-01   -0.867857\n",
       "3  policy_sales_channel     1.0     163.0     162.0     112.034295     133.0      54.203924 -9.000081e-01   -0.970810\n",
       "4       driving_license     0.0       1.0       1.0       0.997869       1.0       0.046109 -2.159518e+01  464.354302\n",
       "5    previously_insured     0.0       1.0       1.0       0.458210       0.0       0.498251  1.677471e-01   -1.971871\n",
       "6        annual_premium  2630.0  540165.0  537535.0   30564.389581   31669.0   17213.132474  1.766087e+00   34.004569\n",
       "7               vintage    10.0     299.0     289.0     154.347397     154.0      83.671194  3.029517e-03   -1.200688\n",
       "8              response     0.0       1.0       1.0       0.122563       0.0       0.327935  2.301906e+00    3.298788"
      ]
     },
     "execution_count": 16,
     "metadata": {},
     "output_type": "execute_result"
    }
   ],
   "source": [
    "n"
   ]
  },
  {
   "cell_type": "markdown",
   "id": "77df4c96",
   "metadata": {},
   "source": [
    "## 2.6. Train Test Split"
   ]
  },
  {
   "cell_type": "code",
   "execution_count": 17,
   "id": "88f9669a",
   "metadata": {},
   "outputs": [],
   "source": [
    "# Test Dataset Extraction\n",
    "X = df2.drop('response', axis = 1).copy()\n",
    "y = df2['response'].copy()\n",
    "\n",
    "x_train, x_test, y_train, y_test = ms.train_test_split(X, y, stratify = y, test_size = 0.20, random_state = 45)\n",
    "\n",
    "# df2 is the new dataset, and will be used to train and validate the models\n",
    "df2 = pd.concat([x_train, y_train], axis = 1)\n",
    "\n",
    "# df_test is a separate dataset, and will be used to perfomr the final evaluation of the trained model\n",
    "df_test = pd.concat([x_test, y_test], axis = 1)"
   ]
  },
  {
   "cell_type": "code",
   "execution_count": 18,
   "id": "63c35b82",
   "metadata": {},
   "outputs": [
    {
     "data": {
      "text/plain": [
       "0    0.877437\n",
       "1    0.122563\n",
       "Name: response, dtype: float64"
      ]
     },
     "execution_count": 18,
     "metadata": {},
     "output_type": "execute_result"
    }
   ],
   "source": [
    "#Check test stratify\n",
    "df_test['response'].value_counts() / df_test['response'].count() "
   ]
  },
  {
   "cell_type": "code",
   "execution_count": 19,
   "id": "8a8ef7dd",
   "metadata": {},
   "outputs": [
    {
     "data": {
      "text/plain": [
       "0    0.877437\n",
       "1    0.122563\n",
       "Name: response, dtype: float64"
      ]
     },
     "execution_count": 19,
     "metadata": {},
     "output_type": "execute_result"
    }
   ],
   "source": [
    "#Check train stratify\n",
    "df2['response'].value_counts() / df2['response'].count()"
   ]
  },
  {
   "cell_type": "code",
   "execution_count": 20,
   "id": "a8dafc92",
   "metadata": {},
   "outputs": [
    {
     "data": {
      "text/plain": [
       "(304887, 12)"
      ]
     },
     "execution_count": 20,
     "metadata": {},
     "output_type": "execute_result"
    }
   ],
   "source": [
    "df2.shape"
   ]
  },
  {
   "cell_type": "code",
   "execution_count": 21,
   "id": "6fd29ea5",
   "metadata": {},
   "outputs": [
    {
     "data": {
      "text/plain": [
       "(76222, 12)"
      ]
     },
     "execution_count": 21,
     "metadata": {},
     "output_type": "execute_result"
    }
   ],
   "source": [
    "df_test.shape"
   ]
  },
  {
   "cell_type": "code",
   "execution_count": 22,
   "id": "4af8fac2",
   "metadata": {},
   "outputs": [],
   "source": [
    "#Export Test\n",
    "df_test.to_csv('/home/rafael/Repos/cross_sell_prediction/data/'+'df_test.csv')"
   ]
  },
  {
   "cell_type": "markdown",
   "id": "4e87d9ca",
   "metadata": {},
   "source": [
    "# 3.0. FEATURE ENGINEERING"
   ]
  },
  {
   "cell_type": "code",
   "execution_count": 23,
   "id": "48afcba5",
   "metadata": {},
   "outputs": [],
   "source": [
    "df3 = df2.copy()"
   ]
  },
  {
   "cell_type": "code",
   "execution_count": 24,
   "id": "ff8ae379",
   "metadata": {},
   "outputs": [
    {
     "name": "stdout",
     "output_type": "stream",
     "text": [
      "['1-2 Year' '< 1 Year' '> 2 Years']\n",
      "['Yes' 'No']\n"
     ]
    },
    {
     "data": {
      "text/html": [
       "<div>\n",
       "<style scoped>\n",
       "    .dataframe tbody tr th:only-of-type {\n",
       "        vertical-align: middle;\n",
       "    }\n",
       "\n",
       "    .dataframe tbody tr th {\n",
       "        vertical-align: top;\n",
       "    }\n",
       "\n",
       "    .dataframe thead th {\n",
       "        text-align: right;\n",
       "    }\n",
       "</style>\n",
       "<table border=\"1\" class=\"dataframe\">\n",
       "  <thead>\n",
       "    <tr style=\"text-align: right;\">\n",
       "      <th></th>\n",
       "      <th>id</th>\n",
       "      <th>gender</th>\n",
       "      <th>age</th>\n",
       "      <th>region_code</th>\n",
       "      <th>policy_sales_channel</th>\n",
       "      <th>driving_license</th>\n",
       "      <th>vehicle_age</th>\n",
       "      <th>vehicle_damage</th>\n",
       "      <th>previously_insured</th>\n",
       "      <th>annual_premium</th>\n",
       "      <th>vintage</th>\n",
       "      <th>response</th>\n",
       "    </tr>\n",
       "  </thead>\n",
       "  <tbody>\n",
       "    <tr>\n",
       "      <th>332417</th>\n",
       "      <td>371361</td>\n",
       "      <td>Female</td>\n",
       "      <td>52</td>\n",
       "      <td>28.0</td>\n",
       "      <td>124.0</td>\n",
       "      <td>1</td>\n",
       "      <td>between_1_2_year</td>\n",
       "      <td>1</td>\n",
       "      <td>0</td>\n",
       "      <td>25037.0</td>\n",
       "      <td>68</td>\n",
       "      <td>0</td>\n",
       "    </tr>\n",
       "    <tr>\n",
       "      <th>318002</th>\n",
       "      <td>255092</td>\n",
       "      <td>Male</td>\n",
       "      <td>23</td>\n",
       "      <td>16.0</td>\n",
       "      <td>163.0</td>\n",
       "      <td>1</td>\n",
       "      <td>below_1_year</td>\n",
       "      <td>1</td>\n",
       "      <td>0</td>\n",
       "      <td>28314.0</td>\n",
       "      <td>182</td>\n",
       "      <td>0</td>\n",
       "    </tr>\n",
       "    <tr>\n",
       "      <th>192366</th>\n",
       "      <td>12237</td>\n",
       "      <td>Male</td>\n",
       "      <td>34</td>\n",
       "      <td>28.0</td>\n",
       "      <td>26.0</td>\n",
       "      <td>1</td>\n",
       "      <td>between_1_2_year</td>\n",
       "      <td>1</td>\n",
       "      <td>0</td>\n",
       "      <td>24715.0</td>\n",
       "      <td>10</td>\n",
       "      <td>0</td>\n",
       "    </tr>\n",
       "    <tr>\n",
       "      <th>126655</th>\n",
       "      <td>248977</td>\n",
       "      <td>Female</td>\n",
       "      <td>46</td>\n",
       "      <td>15.0</td>\n",
       "      <td>14.0</td>\n",
       "      <td>1</td>\n",
       "      <td>between_1_2_year</td>\n",
       "      <td>1</td>\n",
       "      <td>0</td>\n",
       "      <td>40678.0</td>\n",
       "      <td>253</td>\n",
       "      <td>0</td>\n",
       "    </tr>\n",
       "    <tr>\n",
       "      <th>318534</th>\n",
       "      <td>259597</td>\n",
       "      <td>Male</td>\n",
       "      <td>50</td>\n",
       "      <td>8.0</td>\n",
       "      <td>124.0</td>\n",
       "      <td>1</td>\n",
       "      <td>between_1_2_year</td>\n",
       "      <td>1</td>\n",
       "      <td>0</td>\n",
       "      <td>38292.0</td>\n",
       "      <td>72</td>\n",
       "      <td>0</td>\n",
       "    </tr>\n",
       "  </tbody>\n",
       "</table>\n",
       "</div>"
      ],
      "text/plain": [
       "            id  gender  age  region_code  policy_sales_channel  driving_license       vehicle_age  vehicle_damage  previously_insured  annual_premium  vintage  response\n",
       "332417  371361  Female   52         28.0                 124.0                1  between_1_2_year               1                   0         25037.0       68         0\n",
       "318002  255092    Male   23         16.0                 163.0                1      below_1_year               1                   0         28314.0      182         0\n",
       "192366   12237    Male   34         28.0                  26.0                1  between_1_2_year               1                   0         24715.0       10         0\n",
       "126655  248977  Female   46         15.0                  14.0                1  between_1_2_year               1                   0         40678.0      253         0\n",
       "318534  259597    Male   50          8.0                 124.0                1  between_1_2_year               1                   0         38292.0       72         0"
      ]
     },
     "execution_count": 24,
     "metadata": {},
     "output_type": "execute_result"
    }
   ],
   "source": [
    "print(df3['vehicle_age'].unique())\n",
    "print(df3['vehicle_damage'].unique())\n",
    "\n",
    "# # vehicle_age\n",
    "# df3['vehicle_age'] = df3['vehicle_age'].apply(lambda x: 'below_1_year' if x == ('< 1 Year') else 'between_1_2_year' if x == ('1-2 Year') else 'over_2_years')\n",
    "\n",
    "# #vehicle_damage\n",
    "# df3['vehicle_damage'] = df3['vehicle_damage'].apply(lambda x: 1 if x == 'Yes' else 0)\n",
    "\n",
    "# vehicle age\n",
    "dict_vehicle_age = {'> 2 Years':'over_2_years', '1-2 Year':'between_1_2_year', '< 1 Year':'below_1_year'}\n",
    "df3['vehicle_age'] = df3['vehicle_age'].map(dict_vehicle_age)\n",
    "\n",
    "# vehicle damage\n",
    "dict_vehicle_damage = {'Yes': 1, 'No': 0}\n",
    "df3['vehicle_damage'] = df3['vehicle_damage'].map(dict_vehicle_damage)\n",
    "\n",
    "df3.head()"
   ]
  },
  {
   "cell_type": "markdown",
   "id": "ea2f970b",
   "metadata": {},
   "source": [
    "# 4.0. DATA FILTERING"
   ]
  },
  {
   "cell_type": "markdown",
   "id": "beb904ef",
   "metadata": {},
   "source": [
    "The dataset does not present any inconsistent data as showed in the Descriptive Statistical Analysis. In this case, no data will be filtered for now. "
   ]
  },
  {
   "cell_type": "markdown",
   "id": "c830acc6",
   "metadata": {},
   "source": [
    "# 5.0. EXPLORATORY DATA ANALYSIS"
   ]
  },
  {
   "cell_type": "code",
   "execution_count": 25,
   "id": "7261d345",
   "metadata": {},
   "outputs": [],
   "source": [
    "df5 = df3.copy()"
   ]
  },
  {
   "cell_type": "markdown",
   "id": "482dcc50",
   "metadata": {},
   "source": [
    "## 5.1. SweetVIZ Dashboard"
   ]
  },
  {
   "cell_type": "markdown",
   "id": "f1e04bf3",
   "metadata": {},
   "source": [
    "Looking for features that will separate the clients who are more likely to accept the new offer - cross sell.\n",
    "\n",
    "This analysis will provide a brief understanding of which variables are relevant to the model."
   ]
  },
  {
   "cell_type": "code",
   "execution_count": 29,
   "id": "19871ae1",
   "metadata": {
    "hide_input": false,
    "scrolled": true
   },
   "outputs": [],
   "source": [
    "# report.show_notebook(w=None, h=None,scale=None,layout='vertical')"
   ]
  },
  {
   "cell_type": "markdown",
   "id": "8e10b787",
   "metadata": {},
   "source": [
    "## 5.2. Data Summary"
   ]
  },
  {
   "cell_type": "markdown",
   "id": "7ef45565",
   "metadata": {},
   "source": [
    "### 5.2.1. Variable Response"
   ]
  },
  {
   "cell_type": "code",
   "execution_count": 30,
   "id": "3fb1529a",
   "metadata": {},
   "outputs": [
    {
     "data": {
      "text/plain": [
       "0    0.877437\n",
       "1    0.122563\n",
       "Name: response, dtype: float64"
      ]
     },
     "execution_count": 30,
     "metadata": {},
     "output_type": "execute_result"
    }
   ],
   "source": [
    "df5['response'].value_counts(normalize = True)"
   ]
  },
  {
   "cell_type": "markdown",
   "id": "19d466d3",
   "metadata": {},
   "source": [
    "* 12% of customers are interested in purchasing the car insurance, compared to 88% of people not interested (12% vs 88%)"
   ]
  },
  {
   "cell_type": "code",
   "execution_count": 31,
   "id": "d2b60e7c",
   "metadata": {},
   "outputs": [
    {
     "data": {
      "image/png": "[encoded data removed]",
      "text/plain": [
       "<Figure size 576x360 with 1 Axes>"
      ]
     },
     "metadata": {},
     "output_type": "display_data"
    }
   ],
   "source": [
    "fig = plt.figure(figsize = [8,5])\n",
    "ax = sns.countplot(x = 'response', data = df5)\n",
    "ax.set_xticklabels(['not interested', 'interested']);\n",
    "ax.bar_label(ax.containers[0]);"
   ]
  },
  {
   "cell_type": "markdown",
   "id": "1f2a33bf",
   "metadata": {},
   "source": [
    "### 5.2.2. Age"
   ]
  },
  {
   "cell_type": "code",
   "execution_count": 32,
   "id": "e56e185e",
   "metadata": {},
   "outputs": [
    {
     "data": {
      "image/png": "[encoded data removed]",
      "text/plain": [
       "<Figure size 576x360 with 1 Axes>"
      ]
     },
     "metadata": {},
     "output_type": "display_data"
    }
   ],
   "source": [
    "fig = plt.figure(figsize = [8,5])\n",
    "sns.boxplot(x = df5['response'], y = df5['age'])\n",
    "plt.show()"
   ]
  },
  {
   "cell_type": "code",
   "execution_count": 33,
   "id": "f93b77af",
   "metadata": {
    "cell_style": "split"
   },
   "outputs": [
    {
     "data": {
      "image/png": "[encoded data removed]",
      "text/plain": [
       "<Figure size 432x288 with 1 Axes>"
      ]
     },
     "metadata": {},
     "output_type": "display_data"
    }
   ],
   "source": [
    "fig = plt.figure(figsize = [6,4])\n",
    "aux01 = df5.loc[df5['response'] == 1, 'age']\n",
    "p = sns.histplot( aux01 ) \n",
    "p.set_ylabel(\"people interested\", fontsize = 15)\n",
    "plt.show()"
   ]
  },
  {
   "cell_type": "code",
   "execution_count": 34,
   "id": "cf629237",
   "metadata": {
    "cell_style": "split",
    "hide_input": false
   },
   "outputs": [
    {
     "data": {
      "image/png": "[encoded data removed]",
      "text/plain": [
       "<Figure size 432x288 with 1 Axes>"
      ]
     },
     "metadata": {},
     "output_type": "display_data"
    }
   ],
   "source": [
    "fig = plt.figure(figsize = [6,4])\n",
    "aux00 = df5.loc[df5['response'] == 0, 'age']\n",
    "p = sns.histplot( aux00 )\n",
    "p.set_ylabel(\"people not interested\", fontsize = 15)\n",
    "plt.show()"
   ]
  },
  {
   "cell_type": "markdown",
   "id": "9ae60a0c",
   "metadata": {},
   "source": [
    "People not interested in purchasing the new product: Median - 35 years old, 1st and 3rd quartiles - 24 and 50 years\n",
    "\n",
    "People interested in purchasing the new product: Median - 42 years old, 1st and 3rd quartiles - 35 and 51 years\n",
    "\n",
    "Notice the volume of data in the \"not interested\" group is larger. So we can not get to a conclusion yet. Just an observation."
   ]
  },
  {
   "cell_type": "markdown",
   "id": "8bec0b9e",
   "metadata": {},
   "source": [
    "### 5.2.3. Annual Premium"
   ]
  },
  {
   "cell_type": "code",
   "execution_count": 35,
   "id": "b6321473",
   "metadata": {},
   "outputs": [
    {
     "data": {
      "image/png": "[encoded data removed]",
      "text/plain": [
       "<Figure size 576x360 with 1 Axes>"
      ]
     },
     "metadata": {},
     "output_type": "display_data"
    }
   ],
   "source": [
    "plt.figure(figsize = [8,5])\n",
    "sns.boxplot(x = 'response', y = 'annual_premium', data = df5[df5['annual_premium'] < 100000])\n",
    "plt.show()"
   ]
  },
  {
   "cell_type": "markdown",
   "id": "6eb29a81",
   "metadata": {},
   "source": [
    "Not much information can be retrieved from this feature in terms of how interested customers are in purchasing the vehicle insurance."
   ]
  },
  {
   "cell_type": "markdown",
   "id": "ea760429",
   "metadata": {},
   "source": [
    "### 5.2.4. Gender"
   ]
  },
  {
   "cell_type": "code",
   "execution_count": 36,
   "id": "2238fd60",
   "metadata": {},
   "outputs": [
    {
     "data": {
      "image/png": "[encoded data removed]",
      "text/plain": [
       "<Figure size 720x432 with 2 Axes>"
      ]
     },
     "metadata": {},
     "output_type": "display_data"
    }
   ],
   "source": [
    "# Gender Interest Dashboard\n",
    "#percentage of customers per gender\n",
    "plt.figure(figsize=(10,6))\n",
    "pie_gen = plt.subplot (1,2,1)\n",
    "\n",
    "pie_gen.set_title('Customers by Gender')\n",
    "perc_m, perc_f = df5['gender'].value_counts(normalize = True)\n",
    "pie_gen.pie([perc_m, perc_f], explode=(0, 0.1), labels=['Male', 'Female'], autopct='%1.1f%%', startangle=90);\n",
    "\n",
    "#interested customers per gender\n",
    "bar_gen = plt.subplot (1,2,2)\n",
    "\n",
    "# labels\n",
    "gen_true = df5.loc[df5['response'] == 1]\n",
    "gen_res = sns.countplot(x=gen_true['gender']);\n",
    "abs_values = gen_true['gender'].value_counts(ascending=False)    \n",
    "rel_values = gen_true['gender'].value_counts(ascending=False, normalize=True).values *100\n",
    "\n",
    "lbls = [f'{p[0]} ({p[1]:.0f}%)' for p in zip(abs_values, rel_values)]\n",
    "gen_res.bar_label(container=gen_res.containers[0], labels=lbls);\n",
    "\n",
    "bar_gen.set_title('Interested Customers by Gender')\n",
    "bar_gen.set_xlabel('Gender')\n",
    "bar_gen.set_ylabel('Interested customers')\n",
    "plt.tight_layout(pad=5)"
   ]
  },
  {
   "cell_type": "markdown",
   "id": "48ec7a15",
   "metadata": {},
   "source": [
    "* 54% of customers are male, and 61% of interested customers in the car insurance are male\n",
    "\n",
    "Meaning that in general, men are more likely to be interested in the car insurance "
   ]
  },
  {
   "cell_type": "markdown",
   "id": "1d77175c",
   "metadata": {},
   "source": [
    "### 5.2.5. Region Code"
   ]
  },
  {
   "cell_type": "code",
   "execution_count": 37,
   "id": "a7cf6c84",
   "metadata": {},
   "outputs": [
    {
     "data": {
      "image/png": "[encoded data removed]",
      "text/plain": [
       "<Figure size 864x576 with 1 Axes>"
      ]
     },
     "metadata": {},
     "output_type": "display_data"
    }
   ],
   "source": [
    "aux = df5[['response','region_code']]\n",
    "aux1 = aux[aux['response'] == 1].groupby('region_code').count().reset_index()\n",
    "aux2 = aux[aux['response'] == 0].groupby('region_code').count().reset_index()\n",
    "\n",
    "result = aux2.merge(aux1, how='inner', on='region_code')\n",
    "\n",
    "result.plot(kind='bar', stacked=True, color=['red', 'darkblue'], legend = False);\n",
    "plt.legend([\"Interested\", \"Not Interested\"]);\n",
    "\n",
    "\n",
    "# labels for x & y axis\n",
    "plt.xlabel('Region Codes');\n",
    "plt.ylabel('Number of Clients');\n"
   ]
  },
  {
   "cell_type": "markdown",
   "id": "1fce8592",
   "metadata": {},
   "source": [
    "\n",
    "\n",
    " * Region 28 contains most part of the customers and also most percentage of people interested in the car insurance\n",
    "\n"
   ]
  },
  {
   "cell_type": "markdown",
   "id": "131cbce6",
   "metadata": {},
   "source": [
    "### 5.2.6. Previously Insured"
   ]
  },
  {
   "cell_type": "code",
   "execution_count": 38,
   "id": "7deaa443",
   "metadata": {},
   "outputs": [
    {
     "data": {
      "text/html": [
       "<div>\n",
       "<style scoped>\n",
       "    .dataframe tbody tr th:only-of-type {\n",
       "        vertical-align: middle;\n",
       "    }\n",
       "\n",
       "    .dataframe tbody tr th {\n",
       "        vertical-align: top;\n",
       "    }\n",
       "\n",
       "    .dataframe thead th {\n",
       "        text-align: right;\n",
       "    }\n",
       "</style>\n",
       "<table border=\"1\" class=\"dataframe\">\n",
       "  <thead>\n",
       "    <tr style=\"text-align: right;\">\n",
       "      <th>response</th>\n",
       "      <th>0</th>\n",
       "      <th>1</th>\n",
       "    </tr>\n",
       "    <tr>\n",
       "      <th>previously_insured</th>\n",
       "      <th></th>\n",
       "      <th></th>\n",
       "    </tr>\n",
       "  </thead>\n",
       "  <tbody>\n",
       "    <tr>\n",
       "      <th>0</th>\n",
       "      <td>0.774497</td>\n",
       "      <td>0.225503</td>\n",
       "    </tr>\n",
       "    <tr>\n",
       "      <th>1</th>\n",
       "      <td>0.999113</td>\n",
       "      <td>0.000887</td>\n",
       "    </tr>\n",
       "  </tbody>\n",
       "</table>\n",
       "</div>"
      ],
      "text/plain": [
       "response                   0         1\n",
       "previously_insured                    \n",
       "0                   0.774497  0.225503\n",
       "1                   0.999113  0.000887"
      ]
     },
     "execution_count": 38,
     "metadata": {},
     "output_type": "execute_result"
    }
   ],
   "source": [
    "pd.crosstab( df5['previously_insured'], df5['response'] ).apply( lambda x: x / x.sum(), axis=1)"
   ]
  },
  {
   "cell_type": "code",
   "execution_count": 39,
   "id": "233c6eae",
   "metadata": {},
   "outputs": [
    {
     "data": {
      "text/plain": [
       "0    99.911256\n",
       "1     0.088744\n",
       "Name: response, dtype: float64"
      ]
     },
     "execution_count": 39,
     "metadata": {},
     "output_type": "execute_result"
    }
   ],
   "source": [
    "#0.1% of customers who had vehicle previously insured are interested in vehicle insurance.\n",
    "df_insured = df5.loc[df5['previously_insured'] == 1]\n",
    "df_insured['response'].value_counts() / df_insured['response'].shape[0] *100"
   ]
  },
  {
   "cell_type": "markdown",
   "id": "263f1b6a",
   "metadata": {},
   "source": [
    "* 22% of customers who didn't have vehicle previously insured are interested in vehicle insurance"
   ]
  },
  {
   "cell_type": "markdown",
   "id": "7c96e717",
   "metadata": {},
   "source": [
    "### 5.2.7. Vehicle Age"
   ]
  },
  {
   "cell_type": "code",
   "execution_count": 40,
   "id": "3b82ed9f",
   "metadata": {},
   "outputs": [
    {
     "data": {
      "text/html": [
       "<div>\n",
       "<style scoped>\n",
       "    .dataframe tbody tr th:only-of-type {\n",
       "        vertical-align: middle;\n",
       "    }\n",
       "\n",
       "    .dataframe tbody tr th {\n",
       "        vertical-align: top;\n",
       "    }\n",
       "\n",
       "    .dataframe thead th {\n",
       "        text-align: right;\n",
       "    }\n",
       "</style>\n",
       "<table border=\"1\" class=\"dataframe\">\n",
       "  <thead>\n",
       "    <tr style=\"text-align: right;\">\n",
       "      <th>response</th>\n",
       "      <th>0</th>\n",
       "      <th>1</th>\n",
       "    </tr>\n",
       "    <tr>\n",
       "      <th>vehicle_age</th>\n",
       "      <th></th>\n",
       "      <th></th>\n",
       "    </tr>\n",
       "  </thead>\n",
       "  <tbody>\n",
       "    <tr>\n",
       "      <th>below_1_year</th>\n",
       "      <td>0.955995</td>\n",
       "      <td>0.044005</td>\n",
       "    </tr>\n",
       "    <tr>\n",
       "      <th>between_1_2_year</th>\n",
       "      <td>0.826384</td>\n",
       "      <td>0.173616</td>\n",
       "    </tr>\n",
       "    <tr>\n",
       "      <th>over_2_years</th>\n",
       "      <td>0.706895</td>\n",
       "      <td>0.293105</td>\n",
       "    </tr>\n",
       "  </tbody>\n",
       "</table>\n",
       "</div>"
      ],
      "text/plain": [
       "response                 0         1\n",
       "vehicle_age                         \n",
       "below_1_year      0.955995  0.044005\n",
       "between_1_2_year  0.826384  0.173616\n",
       "over_2_years      0.706895  0.293105"
      ]
     },
     "execution_count": 40,
     "metadata": {},
     "output_type": "execute_result"
    }
   ],
   "source": [
    "pd.crosstab( df5['vehicle_age'], df5['response'] ).apply( lambda x: x / x.sum(), axis=1)"
   ]
  },
  {
   "cell_type": "markdown",
   "id": "76287a8b",
   "metadata": {},
   "source": [
    "The interest in the vehicle insurance is greater in customers with older vehicle age:\n",
    "\n",
    "   * 29% of customers with vehicles over 2 years are interested.\n",
    "   * 17% of customers with vehicles between 1 and 2 years are interested.\n",
    "   * 4% of customers with vehicles below 1 year are interested.\n",
    "\n"
   ]
  },
  {
   "cell_type": "markdown",
   "id": "8501ec9d",
   "metadata": {},
   "source": [
    "### 5.2.8. Policy Sales Channel"
   ]
  },
  {
   "cell_type": "code",
   "execution_count": 41,
   "id": "668f42ab",
   "metadata": {},
   "outputs": [
    {
     "data": {
      "image/png": "[encoded data removed]",
      "text/plain": [
       "<Figure size 864x576 with 1 Axes>"
      ]
     },
     "metadata": {},
     "output_type": "display_data"
    }
   ],
   "source": [
    "aux = df5[['policy_sales_channel', 'response']].groupby( 'policy_sales_channel' ).sum().reset_index()\n",
    "sns.barplot( x='response', y='policy_sales_channel', data=aux);"
   ]
  },
  {
   "cell_type": "markdown",
   "id": "b204bb9a",
   "metadata": {},
   "source": [
    "### 5.2.9. Vehicle Damage"
   ]
  },
  {
   "cell_type": "code",
   "execution_count": 42,
   "id": "6d07b78f",
   "metadata": {},
   "outputs": [
    {
     "data": {
      "image/png": "[encoded data removed]",
      "text/plain": [
       "<Figure size 864x576 with 2 Axes>"
      ]
     },
     "metadata": {},
     "output_type": "display_data"
    }
   ],
   "source": [
    "#vehicle_damage == 0(no): interested / not interested\n",
    "plt.subplot (1,2,1)\n",
    "aux00 = df5.loc[df5['vehicle_damage'] == 0]\n",
    "aux01 = aux00[['vehicle_damage', 'response']].groupby('response').count().reset_index()\n",
    "fig_not_damaged = sns.barplot (x = 'response', y='vehicle_damage', data=aux01);\n",
    "\n",
    "abs_values0 = aux00['response'].value_counts(ascending=False)    \n",
    "rel_values0 = aux00['response'].value_counts(ascending=False, normalize=True).values *100\n",
    "lbls = [f'{p[0]} ({p[1]:.0f}%)' for p in zip(abs_values0, rel_values0)]\n",
    "fig_not_damaged.bar_label(container=fig_not_damaged.containers[0], labels=lbls);\n",
    "\n",
    "fig_not_damaged.set_xlabel('Interested in Vehicle Insurance')\n",
    "fig_not_damaged.set_ylabel('Number of customers')\n",
    "fig_not_damaged.set_title('No Vehicle Damage');\n",
    "fig_not_damaged.set_xticklabels(['No', 'Yes']);\n",
    "\n",
    "\n",
    "#vehicle_damage == 1(yes): interested / not interested\n",
    "plt.subplot (1,2,2)\n",
    "aux10 = df5.loc[df3['vehicle_damage'] == 1]\n",
    "aux11 = aux10[['vehicle_damage', 'response']].groupby('response').count().reset_index()\n",
    "fig_damaged = sns.barplot(x = 'response', y='vehicle_damage', data=aux11);\n",
    "\n",
    "abs_values1 = aux10['response'].value_counts(ascending=False)    \n",
    "rel_values1 = aux10['response'].value_counts(ascending=False, normalize=True).values *100\n",
    "lbls = [f'{p[0]} ({p[1]:.0f}%)' for p in zip(abs_values1, rel_values1)]\n",
    "fig_damaged.bar_label(container=fig_damaged.containers[0], labels=lbls);\n",
    "\n",
    "fig_damaged.set_xlabel('Interested in Vehicle Insurance')\n",
    "fig_damaged.set_ylabel('Number of customers')\n",
    "fig_damaged.set_title('Vehicle Damage');\n",
    "fig_damaged.set_xticklabels(['No', 'Yes']);\n"
   ]
  },
  {
   "cell_type": "markdown",
   "id": "956721cb",
   "metadata": {},
   "source": [
    "* 24% of customers how had vehicle damage are interested in vehicle insurance, while only 1% of those who didn't have vehicle damage are interestet."
   ]
  },
  {
   "cell_type": "markdown",
   "id": "a66bee21",
   "metadata": {},
   "source": [
    "### 5.2.10. Vintage"
   ]
  },
  {
   "cell_type": "code",
   "execution_count": 43,
   "id": "863c5230",
   "metadata": {},
   "outputs": [
    {
     "data": {
      "image/png": "[encoded data removed]",
      "text/plain": [
       "<Figure size 864x576 with 1 Axes>"
      ]
     },
     "metadata": {},
     "output_type": "display_data"
    }
   ],
   "source": [
    "# get just the interested customers\n",
    "aux = df5[['vintage', 'response']].groupby('vintage').sum().reset_index()\n",
    "vint = sns.regplot (x= 'vintage', y='response', data=aux)\n",
    "vint.set_xlabel('Days Associated');\n",
    "vint.set_ylabel('Number of Interested Customers')\n",
    "vint.set_title('Interest in Vehicle Insurance vs Days Associated');"
   ]
  },
  {
   "cell_type": "markdown",
   "id": "76d62029",
   "metadata": {},
   "source": [
    "* There is no significant difference between customers with more days of health insurance (more days associated) and customers who became clients recently in terms of vehicle insurance interest."
   ]
  },
  {
   "cell_type": "markdown",
   "id": "099cb5bf",
   "metadata": {},
   "source": [
    "## 5.3. Save dataset"
   ]
  },
  {
   "cell_type": "code",
   "execution_count": 44,
   "id": "f93915f5",
   "metadata": {},
   "outputs": [],
   "source": [
    "#Export Train data\n",
    "df5.to_csv('/home/rafael/Repos/cross_sell_prediction/data/'+'eda_complete.csv') # eda complete"
   ]
  }
 ],
 "metadata": {
  "kernelspec": {
   "display_name": "CrossSellPrediction",
   "language": "python",
   "name": "crosssellprediction"
  },
  "language_info": {
   "codemirror_mode": {
    "name": "ipython",
    "version": 3
   },
   "file_extension": ".py",
   "mimetype": "text/x-python",
   "name": "python",
   "nbconvert_exporter": "python",
   "pygments_lexer": "ipython3",
   "version": "3.9.9"
  }
 },
 "nbformat": 4,
 "nbformat_minor": 5
}
